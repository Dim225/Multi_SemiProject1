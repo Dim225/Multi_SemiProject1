{
  "nbformat": 4,
  "nbformat_minor": 0,
  "metadata": {
    "colab": {
      "name": "학습데이터 표준화_박스플롯.ipynb",
      "provenance": [],
      "collapsed_sections": []
    },
    "kernelspec": {
      "name": "python3",
      "display_name": "Python 3"
    },
    "language_info": {
      "name": "python"
    },
    "accelerator": "GPU"
  },
  "cells": [
    {
      "cell_type": "markdown",
      "source": [
        "- ols로 다중회귀분석 수행 후\n",
        "- SVM과 의사결정회귀나무, XGBoost 사용해서 돌려보기"
      ],
      "metadata": {
        "id": "42en6UJJAbsV"
      }
    },
    {
      "cell_type": "code",
      "source": [
        "!sudo apt-get install -y fonts-nanum\n",
        "!sudo fc-cache -fv\n",
        "!rm ~/.cache/matplotlib -rf"
      ],
      "metadata": {
        "id": "1nRdNnlZ8To2"
      },
      "execution_count": null,
      "outputs": []
    },
    {
      "cell_type": "code",
      "source": [
        "import os\n",
        "import json\n",
        "import datetime\n",
        "import numpy as np\n",
        "import pandas as pd\n",
        "import seaborn as sns\n",
        "from tqdm import tqdm\n",
        "import warnings\n",
        "warnings.filterwarnings('ignore')\n",
        "import matplotlib.pyplot as plt\n",
        "plt.rc('font', family='NanumBarunGothic') "
      ],
      "metadata": {
        "id": "0TfEtmFb8rk_"
      },
      "execution_count": null,
      "outputs": []
    },
    {
      "cell_type": "code",
      "source": [
        "from google.colab import drive\n",
        "drive.mount('/content/drive')"
      ],
      "metadata": {
        "id": "WrjwM64X8riQ",
        "colab": {
          "base_uri": "https://localhost:8080/"
        },
        "outputId": "cf72fadc-2b54-4214-94b5-da311bc31c42"
      },
      "execution_count": null,
      "outputs": [
        {
          "output_type": "stream",
          "name": "stdout",
          "text": [
            "Mounted at /content/drive\n"
          ]
        }
      ]
    },
    {
      "cell_type": "markdown",
      "source": [
        "### 1. 데이터 불러오고 전처리"
      ],
      "metadata": {
        "id": "yP0z8ck08OoC"
      }
    },
    {
      "cell_type": "code",
      "execution_count": null,
      "metadata": {
        "id": "F63vGAhn4QMJ",
        "colab": {
          "base_uri": "https://localhost:8080/",
          "height": 163
        },
        "outputId": "08e881c6-8e8a-4614-c334-468c39cd5810"
      },
      "outputs": [
        {
          "output_type": "stream",
          "name": "stdout",
          "text": [
            "/content/drive/.shortcut-targets-by-id/1Mz49-WiynxJxHmmXYuWSqduV3-jd-BC7/멀티캠퍼스 5조/2.데이터\n"
          ]
        },
        {
          "output_type": "execute_result",
          "data": {
            "text/plain": [
              "  출발지구군 출발지상세                 예정일시                 승차일시  시간대_30분   요일    월  \\\n",
              "0   종로구   삼청동  2019-01-01 00:02:00  2019-01-01 04:15:34      0.0  1.0  0.0   \n",
              "1   성북구   보문동  2019-01-01 00:13:00  2019-01-01 03:36:11      0.0  1.0  0.0   \n",
              "2   강북구   인수동  2019-01-01 00:15:00  2019-01-01 03:23:48      0.0  1.0  0.0   \n",
              "\n",
              "     화    수    목    금    토    일   언급량  강수량  적설량   평균속도  운행차량수   대기시간   대기시간_초  \n",
              "0  1.0  0.0  0.0  0.0  0.0  0.0  54.0  0.0  0.0  25.25     11  253.0  15214.0  \n",
              "1  1.0  0.0  0.0  0.0  0.0  0.0  61.0  0.0  0.0  28.31     11  203.0  12191.0  \n",
              "2  1.0  0.0  0.0  0.0  0.0  0.0  55.0  0.0  0.0  24.24     11  188.0  11328.0  "
            ],
            "text/html": [
              "\n",
              "  <div id=\"df-51d895ef-ed86-463a-861c-849971218447\">\n",
              "    <div class=\"colab-df-container\">\n",
              "      <div>\n",
              "<style scoped>\n",
              "    .dataframe tbody tr th:only-of-type {\n",
              "        vertical-align: middle;\n",
              "    }\n",
              "\n",
              "    .dataframe tbody tr th {\n",
              "        vertical-align: top;\n",
              "    }\n",
              "\n",
              "    .dataframe thead th {\n",
              "        text-align: right;\n",
              "    }\n",
              "</style>\n",
              "<table border=\"1\" class=\"dataframe\">\n",
              "  <thead>\n",
              "    <tr style=\"text-align: right;\">\n",
              "      <th></th>\n",
              "      <th>출발지구군</th>\n",
              "      <th>출발지상세</th>\n",
              "      <th>예정일시</th>\n",
              "      <th>승차일시</th>\n",
              "      <th>시간대_30분</th>\n",
              "      <th>요일</th>\n",
              "      <th>월</th>\n",
              "      <th>화</th>\n",
              "      <th>수</th>\n",
              "      <th>목</th>\n",
              "      <th>금</th>\n",
              "      <th>토</th>\n",
              "      <th>일</th>\n",
              "      <th>언급량</th>\n",
              "      <th>강수량</th>\n",
              "      <th>적설량</th>\n",
              "      <th>평균속도</th>\n",
              "      <th>운행차량수</th>\n",
              "      <th>대기시간</th>\n",
              "      <th>대기시간_초</th>\n",
              "    </tr>\n",
              "  </thead>\n",
              "  <tbody>\n",
              "    <tr>\n",
              "      <th>0</th>\n",
              "      <td>종로구</td>\n",
              "      <td>삼청동</td>\n",
              "      <td>2019-01-01 00:02:00</td>\n",
              "      <td>2019-01-01 04:15:34</td>\n",
              "      <td>0.0</td>\n",
              "      <td>1.0</td>\n",
              "      <td>0.0</td>\n",
              "      <td>1.0</td>\n",
              "      <td>0.0</td>\n",
              "      <td>0.0</td>\n",
              "      <td>0.0</td>\n",
              "      <td>0.0</td>\n",
              "      <td>0.0</td>\n",
              "      <td>54.0</td>\n",
              "      <td>0.0</td>\n",
              "      <td>0.0</td>\n",
              "      <td>25.25</td>\n",
              "      <td>11</td>\n",
              "      <td>253.0</td>\n",
              "      <td>15214.0</td>\n",
              "    </tr>\n",
              "    <tr>\n",
              "      <th>1</th>\n",
              "      <td>성북구</td>\n",
              "      <td>보문동</td>\n",
              "      <td>2019-01-01 00:13:00</td>\n",
              "      <td>2019-01-01 03:36:11</td>\n",
              "      <td>0.0</td>\n",
              "      <td>1.0</td>\n",
              "      <td>0.0</td>\n",
              "      <td>1.0</td>\n",
              "      <td>0.0</td>\n",
              "      <td>0.0</td>\n",
              "      <td>0.0</td>\n",
              "      <td>0.0</td>\n",
              "      <td>0.0</td>\n",
              "      <td>61.0</td>\n",
              "      <td>0.0</td>\n",
              "      <td>0.0</td>\n",
              "      <td>28.31</td>\n",
              "      <td>11</td>\n",
              "      <td>203.0</td>\n",
              "      <td>12191.0</td>\n",
              "    </tr>\n",
              "    <tr>\n",
              "      <th>2</th>\n",
              "      <td>강북구</td>\n",
              "      <td>인수동</td>\n",
              "      <td>2019-01-01 00:15:00</td>\n",
              "      <td>2019-01-01 03:23:48</td>\n",
              "      <td>0.0</td>\n",
              "      <td>1.0</td>\n",
              "      <td>0.0</td>\n",
              "      <td>1.0</td>\n",
              "      <td>0.0</td>\n",
              "      <td>0.0</td>\n",
              "      <td>0.0</td>\n",
              "      <td>0.0</td>\n",
              "      <td>0.0</td>\n",
              "      <td>55.0</td>\n",
              "      <td>0.0</td>\n",
              "      <td>0.0</td>\n",
              "      <td>24.24</td>\n",
              "      <td>11</td>\n",
              "      <td>188.0</td>\n",
              "      <td>11328.0</td>\n",
              "    </tr>\n",
              "  </tbody>\n",
              "</table>\n",
              "</div>\n",
              "      <button class=\"colab-df-convert\" onclick=\"convertToInteractive('df-51d895ef-ed86-463a-861c-849971218447')\"\n",
              "              title=\"Convert this dataframe to an interactive table.\"\n",
              "              style=\"display:none;\">\n",
              "        \n",
              "  <svg xmlns=\"http://www.w3.org/2000/svg\" height=\"24px\"viewBox=\"0 0 24 24\"\n",
              "       width=\"24px\">\n",
              "    <path d=\"M0 0h24v24H0V0z\" fill=\"none\"/>\n",
              "    <path d=\"M18.56 5.44l.94 2.06.94-2.06 2.06-.94-2.06-.94-.94-2.06-.94 2.06-2.06.94zm-11 1L8.5 8.5l.94-2.06 2.06-.94-2.06-.94L8.5 2.5l-.94 2.06-2.06.94zm10 10l.94 2.06.94-2.06 2.06-.94-2.06-.94-.94-2.06-.94 2.06-2.06.94z\"/><path d=\"M17.41 7.96l-1.37-1.37c-.4-.4-.92-.59-1.43-.59-.52 0-1.04.2-1.43.59L10.3 9.45l-7.72 7.72c-.78.78-.78 2.05 0 2.83L4 21.41c.39.39.9.59 1.41.59.51 0 1.02-.2 1.41-.59l7.78-7.78 2.81-2.81c.8-.78.8-2.07 0-2.86zM5.41 20L4 18.59l7.72-7.72 1.47 1.35L5.41 20z\"/>\n",
              "  </svg>\n",
              "      </button>\n",
              "      \n",
              "  <style>\n",
              "    .colab-df-container {\n",
              "      display:flex;\n",
              "      flex-wrap:wrap;\n",
              "      gap: 12px;\n",
              "    }\n",
              "\n",
              "    .colab-df-convert {\n",
              "      background-color: #E8F0FE;\n",
              "      border: none;\n",
              "      border-radius: 50%;\n",
              "      cursor: pointer;\n",
              "      display: none;\n",
              "      fill: #1967D2;\n",
              "      height: 32px;\n",
              "      padding: 0 0 0 0;\n",
              "      width: 32px;\n",
              "    }\n",
              "\n",
              "    .colab-df-convert:hover {\n",
              "      background-color: #E2EBFA;\n",
              "      box-shadow: 0px 1px 2px rgba(60, 64, 67, 0.3), 0px 1px 3px 1px rgba(60, 64, 67, 0.15);\n",
              "      fill: #174EA6;\n",
              "    }\n",
              "\n",
              "    [theme=dark] .colab-df-convert {\n",
              "      background-color: #3B4455;\n",
              "      fill: #D2E3FC;\n",
              "    }\n",
              "\n",
              "    [theme=dark] .colab-df-convert:hover {\n",
              "      background-color: #434B5C;\n",
              "      box-shadow: 0px 1px 3px 1px rgba(0, 0, 0, 0.15);\n",
              "      filter: drop-shadow(0px 1px 2px rgba(0, 0, 0, 0.3));\n",
              "      fill: #FFFFFF;\n",
              "    }\n",
              "  </style>\n",
              "\n",
              "      <script>\n",
              "        const buttonEl =\n",
              "          document.querySelector('#df-51d895ef-ed86-463a-861c-849971218447 button.colab-df-convert');\n",
              "        buttonEl.style.display =\n",
              "          google.colab.kernel.accessAllowed ? 'block' : 'none';\n",
              "\n",
              "        async function convertToInteractive(key) {\n",
              "          const element = document.querySelector('#df-51d895ef-ed86-463a-861c-849971218447');\n",
              "          const dataTable =\n",
              "            await google.colab.kernel.invokeFunction('convertToInteractive',\n",
              "                                                     [key], {});\n",
              "          if (!dataTable) return;\n",
              "\n",
              "          const docLinkHtml = 'Like what you see? Visit the ' +\n",
              "            '<a target=\"_blank\" href=https://colab.research.google.com/notebooks/data_table.ipynb>data table notebook</a>'\n",
              "            + ' to learn more about interactive tables.';\n",
              "          element.innerHTML = '';\n",
              "          dataTable['output_type'] = 'display_data';\n",
              "          await google.colab.output.renderOutput(dataTable, element);\n",
              "          const docLink = document.createElement('div');\n",
              "          docLink.innerHTML = docLinkHtml;\n",
              "          element.appendChild(docLink);\n",
              "        }\n",
              "      </script>\n",
              "    </div>\n",
              "  </div>\n",
              "  "
            ]
          },
          "metadata": {},
          "execution_count": 3
        }
      ],
      "source": [
        "%cd /content/drive/MyDrive/'멀티캠퍼스 5조'/2.데이터\n",
        "\n",
        "df = pd.read_csv('학습데이터2.csv')\n",
        "df.head(3)"
      ]
    },
    {
      "cell_type": "code",
      "source": [
        "df = df.dropna()"
      ],
      "metadata": {
        "id": "uXewuqBzCqPz"
      },
      "execution_count": null,
      "outputs": []
    },
    {
      "cell_type": "code",
      "source": [
        "df['시간대_30분'] = df['시간대_30분'].astype('int')\n",
        "df['요일'] = df['요일'].astype('int')\n",
        "#df['요일'] = df['요일'].astype('object')\n",
        "for feature in df.columns[6:14]:\n",
        "    df[feature] = df[feature].astype('int')"
      ],
      "metadata": {
        "id": "DVQ53sBiB1-M"
      },
      "execution_count": null,
      "outputs": []
    },
    {
      "cell_type": "code",
      "source": [
        "df.describe()"
      ],
      "metadata": {
        "id": "Lt63VY_P-LY_",
        "colab": {
          "base_uri": "https://localhost:8080/",
          "height": 300
        },
        "outputId": "c76bda65-4ce2-4893-9b0c-91ec0a1ef134"
      },
      "execution_count": null,
      "outputs": [
        {
          "output_type": "execute_result",
          "data": {
            "text/plain": [
              "            시간대_30분            요일             월             화             수  \\\n",
              "count  3.550104e+06  3.550104e+06  3.550104e+06  3.550104e+06  3.550104e+06   \n",
              "mean   2.448098e+01  2.416291e+00  1.774540e-01  1.783452e-01  1.729144e-01   \n",
              "std    7.080671e+00  1.759595e+00  3.820525e-01  3.828031e-01  3.781733e-01   \n",
              "min    0.000000e+00  0.000000e+00  0.000000e+00  0.000000e+00  0.000000e+00   \n",
              "25%    1.900000e+01  1.000000e+00  0.000000e+00  0.000000e+00  0.000000e+00   \n",
              "50%    2.400000e+01  2.000000e+00  0.000000e+00  0.000000e+00  0.000000e+00   \n",
              "75%    2.900000e+01  4.000000e+00  0.000000e+00  0.000000e+00  0.000000e+00   \n",
              "max    4.700000e+01  6.000000e+00  1.000000e+00  1.000000e+00  1.000000e+00   \n",
              "\n",
              "                  목             금             토             일           언급량  \\\n",
              "count  3.550104e+06  3.550104e+06  3.550104e+06  3.550104e+06  3.550104e+06   \n",
              "mean   1.749067e-01  1.702505e-01  7.038076e-02  5.574851e-02  3.773106e+03   \n",
              "std    3.798873e-01  3.758528e-01  2.557877e-01  2.294355e-01  2.939590e+03   \n",
              "min    0.000000e+00  0.000000e+00  0.000000e+00  0.000000e+00  1.000000e+00   \n",
              "25%    0.000000e+00  0.000000e+00  0.000000e+00  0.000000e+00  1.775000e+03   \n",
              "50%    0.000000e+00  0.000000e+00  0.000000e+00  0.000000e+00  3.039000e+03   \n",
              "75%    0.000000e+00  0.000000e+00  0.000000e+00  0.000000e+00  4.742000e+03   \n",
              "max    1.000000e+00  1.000000e+00  1.000000e+00  1.000000e+00  1.843500e+04   \n",
              "\n",
              "                강수량           적설량          평균속도         운행차량수          대기시간  \\\n",
              "count  3.550104e+06  3.550104e+06  3.550104e+06  3.550104e+06  3.550104e+06   \n",
              "mean   1.245874e-01  2.641261e-02  2.295564e+01  3.556373e+02  4.156429e+01   \n",
              "std    1.231208e+00  2.452691e-01  2.675965e+00  1.361901e+02  2.952999e+01   \n",
              "min    0.000000e+00  0.000000e+00  7.040000e+00  1.100000e+01 -1.439000e+03   \n",
              "25%    0.000000e+00  0.000000e+00  2.130000e+01  2.550000e+02  2.200000e+01   \n",
              "50%    0.000000e+00  0.000000e+00  2.272000e+01  3.970000e+02  3.300000e+01   \n",
              "75%    0.000000e+00  0.000000e+00  2.424000e+01  4.640000e+02  5.300000e+01   \n",
              "max    6.470000e+01  5.500000e+00  4.092000e+01  5.810000e+02  4.970000e+02   \n",
              "\n",
              "             대기시간_초  \n",
              "count  3.550104e+06  \n",
              "mean   2.518101e+03  \n",
              "std    1.772565e+03  \n",
              "min   -8.633000e+04  \n",
              "25%    1.323000e+03  \n",
              "50%    1.981000e+03  \n",
              "75%    3.234000e+03  \n",
              "max    2.985100e+04  "
            ],
            "text/html": [
              "\n",
              "  <div id=\"df-f7e29480-6df6-4f68-a000-ea556781e0d0\">\n",
              "    <div class=\"colab-df-container\">\n",
              "      <div>\n",
              "<style scoped>\n",
              "    .dataframe tbody tr th:only-of-type {\n",
              "        vertical-align: middle;\n",
              "    }\n",
              "\n",
              "    .dataframe tbody tr th {\n",
              "        vertical-align: top;\n",
              "    }\n",
              "\n",
              "    .dataframe thead th {\n",
              "        text-align: right;\n",
              "    }\n",
              "</style>\n",
              "<table border=\"1\" class=\"dataframe\">\n",
              "  <thead>\n",
              "    <tr style=\"text-align: right;\">\n",
              "      <th></th>\n",
              "      <th>시간대_30분</th>\n",
              "      <th>요일</th>\n",
              "      <th>월</th>\n",
              "      <th>화</th>\n",
              "      <th>수</th>\n",
              "      <th>목</th>\n",
              "      <th>금</th>\n",
              "      <th>토</th>\n",
              "      <th>일</th>\n",
              "      <th>언급량</th>\n",
              "      <th>강수량</th>\n",
              "      <th>적설량</th>\n",
              "      <th>평균속도</th>\n",
              "      <th>운행차량수</th>\n",
              "      <th>대기시간</th>\n",
              "      <th>대기시간_초</th>\n",
              "    </tr>\n",
              "  </thead>\n",
              "  <tbody>\n",
              "    <tr>\n",
              "      <th>count</th>\n",
              "      <td>3.550104e+06</td>\n",
              "      <td>3.550104e+06</td>\n",
              "      <td>3.550104e+06</td>\n",
              "      <td>3.550104e+06</td>\n",
              "      <td>3.550104e+06</td>\n",
              "      <td>3.550104e+06</td>\n",
              "      <td>3.550104e+06</td>\n",
              "      <td>3.550104e+06</td>\n",
              "      <td>3.550104e+06</td>\n",
              "      <td>3.550104e+06</td>\n",
              "      <td>3.550104e+06</td>\n",
              "      <td>3.550104e+06</td>\n",
              "      <td>3.550104e+06</td>\n",
              "      <td>3.550104e+06</td>\n",
              "      <td>3.550104e+06</td>\n",
              "      <td>3.550104e+06</td>\n",
              "    </tr>\n",
              "    <tr>\n",
              "      <th>mean</th>\n",
              "      <td>2.448098e+01</td>\n",
              "      <td>2.416291e+00</td>\n",
              "      <td>1.774540e-01</td>\n",
              "      <td>1.783452e-01</td>\n",
              "      <td>1.729144e-01</td>\n",
              "      <td>1.749067e-01</td>\n",
              "      <td>1.702505e-01</td>\n",
              "      <td>7.038076e-02</td>\n",
              "      <td>5.574851e-02</td>\n",
              "      <td>3.773106e+03</td>\n",
              "      <td>1.245874e-01</td>\n",
              "      <td>2.641261e-02</td>\n",
              "      <td>2.295564e+01</td>\n",
              "      <td>3.556373e+02</td>\n",
              "      <td>4.156429e+01</td>\n",
              "      <td>2.518101e+03</td>\n",
              "    </tr>\n",
              "    <tr>\n",
              "      <th>std</th>\n",
              "      <td>7.080671e+00</td>\n",
              "      <td>1.759595e+00</td>\n",
              "      <td>3.820525e-01</td>\n",
              "      <td>3.828031e-01</td>\n",
              "      <td>3.781733e-01</td>\n",
              "      <td>3.798873e-01</td>\n",
              "      <td>3.758528e-01</td>\n",
              "      <td>2.557877e-01</td>\n",
              "      <td>2.294355e-01</td>\n",
              "      <td>2.939590e+03</td>\n",
              "      <td>1.231208e+00</td>\n",
              "      <td>2.452691e-01</td>\n",
              "      <td>2.675965e+00</td>\n",
              "      <td>1.361901e+02</td>\n",
              "      <td>2.952999e+01</td>\n",
              "      <td>1.772565e+03</td>\n",
              "    </tr>\n",
              "    <tr>\n",
              "      <th>min</th>\n",
              "      <td>0.000000e+00</td>\n",
              "      <td>0.000000e+00</td>\n",
              "      <td>0.000000e+00</td>\n",
              "      <td>0.000000e+00</td>\n",
              "      <td>0.000000e+00</td>\n",
              "      <td>0.000000e+00</td>\n",
              "      <td>0.000000e+00</td>\n",
              "      <td>0.000000e+00</td>\n",
              "      <td>0.000000e+00</td>\n",
              "      <td>1.000000e+00</td>\n",
              "      <td>0.000000e+00</td>\n",
              "      <td>0.000000e+00</td>\n",
              "      <td>7.040000e+00</td>\n",
              "      <td>1.100000e+01</td>\n",
              "      <td>-1.439000e+03</td>\n",
              "      <td>-8.633000e+04</td>\n",
              "    </tr>\n",
              "    <tr>\n",
              "      <th>25%</th>\n",
              "      <td>1.900000e+01</td>\n",
              "      <td>1.000000e+00</td>\n",
              "      <td>0.000000e+00</td>\n",
              "      <td>0.000000e+00</td>\n",
              "      <td>0.000000e+00</td>\n",
              "      <td>0.000000e+00</td>\n",
              "      <td>0.000000e+00</td>\n",
              "      <td>0.000000e+00</td>\n",
              "      <td>0.000000e+00</td>\n",
              "      <td>1.775000e+03</td>\n",
              "      <td>0.000000e+00</td>\n",
              "      <td>0.000000e+00</td>\n",
              "      <td>2.130000e+01</td>\n",
              "      <td>2.550000e+02</td>\n",
              "      <td>2.200000e+01</td>\n",
              "      <td>1.323000e+03</td>\n",
              "    </tr>\n",
              "    <tr>\n",
              "      <th>50%</th>\n",
              "      <td>2.400000e+01</td>\n",
              "      <td>2.000000e+00</td>\n",
              "      <td>0.000000e+00</td>\n",
              "      <td>0.000000e+00</td>\n",
              "      <td>0.000000e+00</td>\n",
              "      <td>0.000000e+00</td>\n",
              "      <td>0.000000e+00</td>\n",
              "      <td>0.000000e+00</td>\n",
              "      <td>0.000000e+00</td>\n",
              "      <td>3.039000e+03</td>\n",
              "      <td>0.000000e+00</td>\n",
              "      <td>0.000000e+00</td>\n",
              "      <td>2.272000e+01</td>\n",
              "      <td>3.970000e+02</td>\n",
              "      <td>3.300000e+01</td>\n",
              "      <td>1.981000e+03</td>\n",
              "    </tr>\n",
              "    <tr>\n",
              "      <th>75%</th>\n",
              "      <td>2.900000e+01</td>\n",
              "      <td>4.000000e+00</td>\n",
              "      <td>0.000000e+00</td>\n",
              "      <td>0.000000e+00</td>\n",
              "      <td>0.000000e+00</td>\n",
              "      <td>0.000000e+00</td>\n",
              "      <td>0.000000e+00</td>\n",
              "      <td>0.000000e+00</td>\n",
              "      <td>0.000000e+00</td>\n",
              "      <td>4.742000e+03</td>\n",
              "      <td>0.000000e+00</td>\n",
              "      <td>0.000000e+00</td>\n",
              "      <td>2.424000e+01</td>\n",
              "      <td>4.640000e+02</td>\n",
              "      <td>5.300000e+01</td>\n",
              "      <td>3.234000e+03</td>\n",
              "    </tr>\n",
              "    <tr>\n",
              "      <th>max</th>\n",
              "      <td>4.700000e+01</td>\n",
              "      <td>6.000000e+00</td>\n",
              "      <td>1.000000e+00</td>\n",
              "      <td>1.000000e+00</td>\n",
              "      <td>1.000000e+00</td>\n",
              "      <td>1.000000e+00</td>\n",
              "      <td>1.000000e+00</td>\n",
              "      <td>1.000000e+00</td>\n",
              "      <td>1.000000e+00</td>\n",
              "      <td>1.843500e+04</td>\n",
              "      <td>6.470000e+01</td>\n",
              "      <td>5.500000e+00</td>\n",
              "      <td>4.092000e+01</td>\n",
              "      <td>5.810000e+02</td>\n",
              "      <td>4.970000e+02</td>\n",
              "      <td>2.985100e+04</td>\n",
              "    </tr>\n",
              "  </tbody>\n",
              "</table>\n",
              "</div>\n",
              "      <button class=\"colab-df-convert\" onclick=\"convertToInteractive('df-f7e29480-6df6-4f68-a000-ea556781e0d0')\"\n",
              "              title=\"Convert this dataframe to an interactive table.\"\n",
              "              style=\"display:none;\">\n",
              "        \n",
              "  <svg xmlns=\"http://www.w3.org/2000/svg\" height=\"24px\"viewBox=\"0 0 24 24\"\n",
              "       width=\"24px\">\n",
              "    <path d=\"M0 0h24v24H0V0z\" fill=\"none\"/>\n",
              "    <path d=\"M18.56 5.44l.94 2.06.94-2.06 2.06-.94-2.06-.94-.94-2.06-.94 2.06-2.06.94zm-11 1L8.5 8.5l.94-2.06 2.06-.94-2.06-.94L8.5 2.5l-.94 2.06-2.06.94zm10 10l.94 2.06.94-2.06 2.06-.94-2.06-.94-.94-2.06-.94 2.06-2.06.94z\"/><path d=\"M17.41 7.96l-1.37-1.37c-.4-.4-.92-.59-1.43-.59-.52 0-1.04.2-1.43.59L10.3 9.45l-7.72 7.72c-.78.78-.78 2.05 0 2.83L4 21.41c.39.39.9.59 1.41.59.51 0 1.02-.2 1.41-.59l7.78-7.78 2.81-2.81c.8-.78.8-2.07 0-2.86zM5.41 20L4 18.59l7.72-7.72 1.47 1.35L5.41 20z\"/>\n",
              "  </svg>\n",
              "      </button>\n",
              "      \n",
              "  <style>\n",
              "    .colab-df-container {\n",
              "      display:flex;\n",
              "      flex-wrap:wrap;\n",
              "      gap: 12px;\n",
              "    }\n",
              "\n",
              "    .colab-df-convert {\n",
              "      background-color: #E8F0FE;\n",
              "      border: none;\n",
              "      border-radius: 50%;\n",
              "      cursor: pointer;\n",
              "      display: none;\n",
              "      fill: #1967D2;\n",
              "      height: 32px;\n",
              "      padding: 0 0 0 0;\n",
              "      width: 32px;\n",
              "    }\n",
              "\n",
              "    .colab-df-convert:hover {\n",
              "      background-color: #E2EBFA;\n",
              "      box-shadow: 0px 1px 2px rgba(60, 64, 67, 0.3), 0px 1px 3px 1px rgba(60, 64, 67, 0.15);\n",
              "      fill: #174EA6;\n",
              "    }\n",
              "\n",
              "    [theme=dark] .colab-df-convert {\n",
              "      background-color: #3B4455;\n",
              "      fill: #D2E3FC;\n",
              "    }\n",
              "\n",
              "    [theme=dark] .colab-df-convert:hover {\n",
              "      background-color: #434B5C;\n",
              "      box-shadow: 0px 1px 3px 1px rgba(0, 0, 0, 0.15);\n",
              "      filter: drop-shadow(0px 1px 2px rgba(0, 0, 0, 0.3));\n",
              "      fill: #FFFFFF;\n",
              "    }\n",
              "  </style>\n",
              "\n",
              "      <script>\n",
              "        const buttonEl =\n",
              "          document.querySelector('#df-f7e29480-6df6-4f68-a000-ea556781e0d0 button.colab-df-convert');\n",
              "        buttonEl.style.display =\n",
              "          google.colab.kernel.accessAllowed ? 'block' : 'none';\n",
              "\n",
              "        async function convertToInteractive(key) {\n",
              "          const element = document.querySelector('#df-f7e29480-6df6-4f68-a000-ea556781e0d0');\n",
              "          const dataTable =\n",
              "            await google.colab.kernel.invokeFunction('convertToInteractive',\n",
              "                                                     [key], {});\n",
              "          if (!dataTable) return;\n",
              "\n",
              "          const docLinkHtml = 'Like what you see? Visit the ' +\n",
              "            '<a target=\"_blank\" href=https://colab.research.google.com/notebooks/data_table.ipynb>data table notebook</a>'\n",
              "            + ' to learn more about interactive tables.';\n",
              "          element.innerHTML = '';\n",
              "          dataTable['output_type'] = 'display_data';\n",
              "          await google.colab.output.renderOutput(dataTable, element);\n",
              "          const docLink = document.createElement('div');\n",
              "          docLink.innerHTML = docLinkHtml;\n",
              "          element.appendChild(docLink);\n",
              "        }\n",
              "      </script>\n",
              "    </div>\n",
              "  </div>\n",
              "  "
            ]
          },
          "metadata": {},
          "execution_count": 6
        }
      ]
    },
    {
      "cell_type": "code",
      "source": [
        "df =df.drop(df[df.대기시간 < 0].index)"
      ],
      "metadata": {
        "id": "TOSOyDjXFrA_"
      },
      "execution_count": null,
      "outputs": []
    },
    {
      "cell_type": "code",
      "source": [
        "df.isna().sum()"
      ],
      "metadata": {
        "colab": {
          "base_uri": "https://localhost:8080/"
        },
        "id": "fhuYarmgMImY",
        "outputId": "619711ee-f21e-41b8-dfc1-94bd4dbfc0b4"
      },
      "execution_count": null,
      "outputs": [
        {
          "output_type": "execute_result",
          "data": {
            "text/plain": [
              "출발지구군      0\n",
              "출발지상세      0\n",
              "예정일시       0\n",
              "승차일시       0\n",
              "시간대_30분    0\n",
              "요일         0\n",
              "월          0\n",
              "화          0\n",
              "수          0\n",
              "목          0\n",
              "금          0\n",
              "토          0\n",
              "일          0\n",
              "언급량        0\n",
              "강수량        0\n",
              "적설량        0\n",
              "평균속도       0\n",
              "운행차량수      0\n",
              "대기시간       0\n",
              "대기시간_초     0\n",
              "dtype: int64"
            ]
          },
          "metadata": {},
          "execution_count": 10
        }
      ]
    },
    {
      "cell_type": "markdown",
      "source": [
        "## box_plot"
      ],
      "metadata": {
        "id": "ghBb8YJDT04b"
      }
    },
    {
      "cell_type": "code",
      "source": [
        "df.columns[13:-1]"
      ],
      "metadata": {
        "colab": {
          "base_uri": "https://localhost:8080/"
        },
        "id": "eQqsOH_lNmDQ",
        "outputId": "ab5c8ca9-8f1d-4a78-cf8b-ef8ab9e0b760"
      },
      "execution_count": null,
      "outputs": [
        {
          "output_type": "execute_result",
          "data": {
            "text/plain": [
              "Index(['언급량', '강수량', '적설량', '평균속도', '운행차량수', '대기시간'], dtype='object')"
            ]
          },
          "metadata": {},
          "execution_count": 13
        }
      ]
    },
    {
      "cell_type": "code",
      "source": [
        "_, ax = plt.subplots(2, 3, figsize = (12, 14))\n",
        "for i, feature in enumerate(df.columns[13:-1]):\n",
        "    row, col = i//3, i%3\n",
        "    sns.boxplot(data = df[feature], color='skyblue',  ax = ax[row, col])\n",
        "    ax[row, col].set_title(feature, fontsize = 20)\n",
        "#plt.savefig('')"
      ],
      "metadata": {
        "colab": {
          "base_uri": "https://localhost:8080/",
          "height": 831
        },
        "id": "PO7pNZJKT6p5",
        "outputId": "55f06e1b-ec75-44a8-866a-9088eb5e47ff"
      },
      "execution_count": null,
      "outputs": [
        {
          "output_type": "display_data",
          "data": {
            "text/plain": [
              "<Figure size 864x1008 with 6 Axes>"
            ],
            "image/png": "[encoded data removed]"
          },
          "metadata": {
            "needs_background": "light"
          }
        }
      ]
    },
    {
      "cell_type": "code",
      "source": [
        "#lst = [30, 5, 5, 30, 30, ]\n",
        "_, ax = plt.subplots(2, 3, figsize = (21, 10))\n",
        "for i, feature in enumerate(df.columns[13:-1]):\n",
        "    plt.subplot(2,3,i+1)\n",
        "    plt.hist(df[feature], bins=30, color = 'gold', edgecolor='k')\n",
        "    plt.title(feature, fontsize = 20)\n",
        "#plt.savefig('')\n",
        "plt.show()"
      ],
      "metadata": {
        "colab": {
          "base_uri": "https://localhost:8080/",
          "height": 614
        },
        "id": "b0fJOEXbbRyx",
        "outputId": "7b1c96e7-fa05-4f82-d29c-1021d2e08a75"
      },
      "execution_count": null,
      "outputs": [
        {
          "output_type": "display_data",
          "data": {
            "text/plain": [
              "<Figure size 1512x720 with 6 Axes>"
            ],
            "image/png": "[encoded data removed]"
          },
          "metadata": {
            "needs_background": "light"
          }
        }
      ]
    },
    {
      "cell_type": "markdown",
      "source": [
        "### 이상치 찾기"
      ],
      "metadata": {
        "id": "WR9gFb_-M_on"
      }
    },
    {
      "cell_type": "code",
      "source": [
        "def find_outliers_tukey(x):\n",
        "  q1 = np.percentile(x, 25)\n",
        "  q3 = np.percentile(x, 75)\n",
        "\n",
        "  iqr = q3-q1\n",
        "  floor = q1 -1.5*iqr\n",
        "  ceiling = q3 +1.5*iqr\n",
        "\n",
        "  max_out = set(x.index[ (x > ceiling) ])\n",
        "  min_out = list(x.index[ (x < floor) ])\n",
        "  outlier_indices = list(x.index[ (x < floor)|(x > ceiling) ])\n",
        "  outlier_values = list(x[outlier_indices])\n",
        "\n",
        "  return outlier_indices, outlier_values, max_out, min_out, floor, ceiling"
      ],
      "metadata": {
        "id": "5-slvCOkM_NU"
      },
      "execution_count": null,
      "outputs": []
    },
    {
      "cell_type": "code",
      "source": [
        "# 대기시간 이상치 확인\n",
        "ukey_indices, tukey_values, max_out, min_out, floor, ceiling = find_outliers_tukey(df.대기시간)\n",
        "print(f\"비율 : {round(len(ukey_indices) / len(df),4) * 100}\\t임계값 : ({floor}, {ceiling})\")\n",
        "print(f\"언급량 이상치 index {np.sort(ukey_indices)}\") \n",
        "# 대기시간 이상치 제거\n",
        "df = df.drop(ukey_indices)"
      ],
      "metadata": {
        "colab": {
          "base_uri": "https://localhost:8080/"
        },
        "id": "BrLa9_F0NEM-",
        "outputId": "68d80f5c-dbde-4513-8185-5ac01d161ade"
      },
      "execution_count": null,
      "outputs": [
        {
          "output_type": "stream",
          "name": "stdout",
          "text": [
            "비율 : 4.66\t임계값 : (-26.0, 102.0)\n",
            "언급량 이상치 index [      0       1       2 ... 3549899 3549908 3550061]\n"
          ]
        }
      ]
    },
    {
      "cell_type": "code",
      "source": [
        "# 평균속도 이상치 확인\n",
        "ukey_indices, tukey_values, max_out, min_out, floor, ceiling = find_outliers_tukey(df.평균속도)\n",
        "print(f\"비율 : {round(len(ukey_indices) / len(df), 4) * 100}\\t임계값 : ({floor}, {ceiling})\")\n",
        "print(f\"평균속도 이상치 index {np.sort(ukey_indices)}\") \n",
        "# 평균속도 이상치 제거\n",
        "df = df.drop(ukey_indices)"
      ],
      "metadata": {
        "colab": {
          "base_uri": "https://localhost:8080/"
        },
        "id": "geqt8w2NXT8p",
        "outputId": "f2c93998-84e2-448f-f232-0f8ce24d6510"
      },
      "execution_count": null,
      "outputs": [
        {
          "output_type": "stream",
          "name": "stdout",
          "text": [
            "비율 : 4.18\t임계값 : (17.015000000000008, 28.574999999999996)\n",
            "평균속도 이상치 index [     16      19      21 ... 3550097 3550099 3550101]\n"
          ]
        }
      ]
    },
    {
      "cell_type": "code",
      "source": [
        "# 언급량 이상치 확인\n",
        "ukey_indices, tukey_values, max_out, min_out, floor, ceiling = find_outliers_tukey(df.언급량)\n",
        "print(f\"비율 : {round(len(ukey_indices) / len(df), 4) * 100}\\t임계값 : ({floor}, {ceiling})\")\n",
        "print(f\"대기시간 이상치 index {np.sort(ukey_indices)}\")\n",
        "# 언급량 이상치 제거\n",
        "df = df.drop(ukey_indices)"
      ],
      "metadata": {
        "colab": {
          "base_uri": "https://localhost:8080/"
        },
        "id": "9W75S34ZrqPq",
        "outputId": "77373ac9-083d-4312-aa1e-02a5750afe87"
      },
      "execution_count": null,
      "outputs": [
        {
          "output_type": "stream",
          "name": "stdout",
          "text": [
            "비율 : 6.859999999999999\t임계값 : (-2552.0, 9264.0)\n",
            "대기시간 이상치 index [    198     212     340 ... 3549345 3549350 3549422]\n"
          ]
        }
      ]
    },
    {
      "cell_type": "code",
      "source": [
        "# 강수량 이상치 확인\n",
        "ukey_indices, tukey_values, max_out, min_out, floor, ceiling = find_outliers_tukey(df.강수량)\n",
        "print(f\"비율 : {round(len(ukey_indices) / len(df), 4) * 100}\\t임계값 : ({floor}, {ceiling})\")\n",
        "print(f\"강수량 이상치 index {np.sort(ukey_indices)}\") "
      ],
      "metadata": {
        "colab": {
          "base_uri": "https://localhost:8080/"
        },
        "id": "8mfji6L4RrIw",
        "outputId": "4b979bfb-b3f5-44c8-bf05-3ac9ec15f7ed"
      },
      "execution_count": null,
      "outputs": [
        {
          "output_type": "stream",
          "name": "stdout",
          "text": [
            "비율 : 5.25\t임계값 : (0.0, 0.0)\n",
            "강수량 이상치 index [  94943   94946   94947 ... 3539074 3539092 3539093]\n"
          ]
        }
      ]
    },
    {
      "cell_type": "code",
      "source": [
        "df.shape"
      ],
      "metadata": {
        "colab": {
          "base_uri": "https://localhost:8080/"
        },
        "id": "fP4Lkgfe_a54",
        "outputId": "523451a9-1a50-4cc7-d182-b4e34e48fd9f"
      },
      "execution_count": null,
      "outputs": [
        {
          "output_type": "execute_result",
          "data": {
            "text/plain": [
              "(3012638, 20)"
            ]
          },
          "metadata": {},
          "execution_count": 29
        }
      ]
    },
    {
      "cell_type": "code",
      "source": [
        "df = df.reset_index(drop = True)"
      ],
      "metadata": {
        "id": "iFk0Nadd1i92"
      },
      "execution_count": null,
      "outputs": []
    },
    {
      "cell_type": "markdown",
      "source": [
        "#### Graph"
      ],
      "metadata": {
        "id": "KFyifB-_EsZJ"
      }
    },
    {
      "cell_type": "code",
      "source": [
        "_, ax = plt.subplots(2, 3, figsize = (21, 10))\n",
        "for i, feature in enumerate(df.columns[-7:-1]):\n",
        "    plt.subplot(2,3,i+1)\n",
        "    plt.hist(df[feature], bins=30, color = 'gold', edgecolor='k', alpha = 0.6)\n",
        "    plt.title(feature, fontsize = 20)\n",
        "#plt.savefig('')\n",
        "plt.show()"
      ],
      "metadata": {
        "colab": {
          "base_uri": "https://localhost:8080/",
          "height": 614
        },
        "id": "N2nVleEar16a",
        "outputId": "ec02aeb5-a080-4503-fc4d-1825a858b424"
      },
      "execution_count": null,
      "outputs": [
        {
          "output_type": "display_data",
          "data": {
            "text/plain": [
              "<Figure size 1512x720 with 6 Axes>"
            ],
            "image/png": "[encoded data removed]"
          },
          "metadata": {
            "needs_background": "light"
          }
        }
      ]
    },
    {
      "cell_type": "code",
      "source": [
        "_, ax = plt.subplots(2, 3, figsize = (12, 14))\n",
        "for i, feature in enumerate(df.columns[-7:-1]):\n",
        "    row, col = i//3, i%3\n",
        "    sns.boxplot(data = df[feature], color='skyblue',  ax = ax[row, col])\n",
        "    ax[row, col].set_title(feature, fontsize = 20)"
      ],
      "metadata": {
        "colab": {
          "base_uri": "https://localhost:8080/",
          "height": 831
        },
        "id": "Xtr5YouZtBFs",
        "outputId": "f4ae739b-a45b-458d-98a9-4524138fce4d"
      },
      "execution_count": null,
      "outputs": [
        {
          "output_type": "display_data",
          "data": {
            "text/plain": [
              "<Figure size 864x1008 with 6 Axes>"
            ],
            "image/png": "[encoded data removed]"
          },
          "metadata": {
            "needs_background": "light"
          }
        }
      ]
    },
    {
      "cell_type": "code",
      "source": [
        "# 이상치 제거 파일 중간 저장\n",
        "df.to_csv('통합데이터_이상치제거.csv', index = False)"
      ],
      "metadata": {
        "id": "QPhjNkgL1poB"
      },
      "execution_count": null,
      "outputs": []
    },
    {
      "cell_type": "code",
      "source": [
        "mon = df2[df2.요일 == 'mon'].groupby('시간대_30분')[['시간대_30분']].count()\n",
        "tue = df2[df2.요일 == 'tue'].groupby('시간대_30분')[['시간대_30분']].count()\n",
        "wed = df2[df2.요일 == 'wed'].groupby('시간대_30분')[['시간대_30분']].count()\n",
        "thr = df2[df2.요일 == 'thr'].groupby('시간대_30분')[['시간대_30분']].count()\n",
        "fri = df2[df2.요일 == 'fri'].groupby('시간대_30분')[['시간대_30분']].count()\n",
        "sat = df2[df2.요일 == 'sat'].groupby('시간대_30분')[['시간대_30분']].count()"
      ],
      "metadata": {
        "id": "JAQcXScR5fo1"
      },
      "execution_count": null,
      "outputs": []
    },
    {
      "cell_type": "code",
      "source": [
        "lst = ['tue', 'wed', 'thr', 'fri', 'sat']\n",
        "gp = pd.concat([gp, sat], axis = 1)"
      ],
      "metadata": {
        "id": "7vZPk8xF6D7c"
      },
      "execution_count": null,
      "outputs": []
    },
    {
      "cell_type": "code",
      "source": [
        "gp = gp.dropna(axis = 1)\n",
        "all = pd.DataFrame(gp.mean(axis = 1), columns = ['이용량'])"
      ],
      "metadata": {
        "id": "oWjEfumP64Ev"
      },
      "execution_count": null,
      "outputs": []
    },
    {
      "cell_type": "code",
      "source": [
        "plt.figure(figsize = (10, 5))\n",
        "plt.bar(all.index, all['이용량'], color = 'gold')  #, edgecolor='k'\n",
        "plt.xlabel('시간대', fontsize =17)\n",
        "plt.ylabel('이용건수', fontsize =15)\n",
        "plt.title('월-토 시간대 평균 그래프', fontsize =25)\n",
        "plt.grid(True, linestyle=':')\n",
        "#plt.savefig('월요일-일요일 시계열 그래프.png', bbox_inches='tight')\n",
        "plt.show() #주중과 주말의 차이 확인 가능"
      ],
      "metadata": {
        "colab": {
          "base_uri": "https://localhost:8080/",
          "height": 368
        },
        "id": "t39CHLiL02ZH",
        "outputId": "740c9c04-1bea-48af-fd43-7572ec1a9998"
      },
      "execution_count": null,
      "outputs": [
        {
          "output_type": "display_data",
          "data": {
            "text/plain": [
              "<Figure size 720x360 with 1 Axes>"
            ],
            "image/png": "[encoded data removed]"
          },
          "metadata": {
            "needs_background": "light"
          }
        }
      ]
    },
    {
      "cell_type": "code",
      "source": [
        "fri = df2[df2.요일 == 'fri']\n",
        "\n",
        "plt.hist(fri['시간대_30분'], bins = 47, color = 'gold', edgecolor='k')\n",
        "plt.xlabel('시간대', fontsize =17)\n",
        "plt.ylabel('이용량', fontsize =15)\n",
        "plt.title('금요일 히스토그램', fontsize =25)\n",
        "plt.grid(True, linestyle=':')\n",
        "#plt.savefig('월요일-일요일 시계열 그래프.png', bbox_inches='tight')\n",
        "plt.show() #주중과 주말의 차이 확인 가능"
      ],
      "metadata": {
        "colab": {
          "base_uri": "https://localhost:8080/",
          "height": 313
        },
        "id": "vIz77kxj2ksu",
        "outputId": "f20fcb07-346d-433a-fef9-062350a13c87"
      },
      "execution_count": null,
      "outputs": [
        {
          "output_type": "display_data",
          "data": {
            "text/plain": [
              "<Figure size 432x288 with 1 Axes>"
            ],
            "image/png": "[encoded data removed]"
          },
          "metadata": {
            "needs_background": "light"
          }
        }
      ]
    },
    {
      "cell_type": "markdown",
      "source": [
        "#### 산점도행렬"
      ],
      "metadata": {
        "id": "Pp0EVT1TXDKC"
      }
    },
    {
      "cell_type": "code",
      "source": [
        "test1 = df.iloc[:100000, :]"
      ],
      "metadata": {
        "id": "21lO12h3xmTD"
      },
      "execution_count": null,
      "outputs": []
    },
    {
      "cell_type": "code",
      "source": [
        "_, ax = plt.subplots(1, 5, figsize = (35,6))\n",
        "for i, feature in enumerate(test1.columns[-7:-2]):\n",
        "    row, col = i//6, i%6\n",
        "    sns.regplot(x = feature, y = '대기시간', data = test1, ax = ax[col]);\n",
        "# plt.savefig('모델1 산점도행렬.png', bbox_inches='tight')"
      ],
      "metadata": {
        "id": "ZFQxlec8XET1",
        "colab": {
          "base_uri": "https://localhost:8080/",
          "height": 350
        },
        "outputId": "f505b235-ef0c-4669-8f5d-3a34fbf5e541"
      },
      "execution_count": null,
      "outputs": [
        {
          "output_type": "display_data",
          "data": {
            "text/plain": [
              "<Figure size 2520x432 with 5 Axes>"
            ],
            "image/png": "[encoded data removed]"
          },
          "metadata": {
            "needs_background": "light"
          }
        }
      ]
    },
    {
      "cell_type": "markdown",
      "source": [
        "### 표준화\n",
        "- 최대최소정규화\n",
        "- 언급량, 강수량, 적설량, 평균속도, 운행차량수"
      ],
      "metadata": {
        "id": "lR9DGVtwxmrk"
      }
    },
    {
      "cell_type": "code",
      "source": [
        "df.columns"
      ],
      "metadata": {
        "colab": {
          "base_uri": "https://localhost:8080/"
        },
        "id": "cbt_Bya_Ccpv",
        "outputId": "aa4374f9-cf0e-4d04-e08a-c44a2b31a76b"
      },
      "execution_count": null,
      "outputs": [
        {
          "output_type": "execute_result",
          "data": {
            "text/plain": [
              "Index(['출발지구군', '출발지상세', '예정일시', '승차일시', '시간대_30분', '요일', '월', '화', '수', '목',\n",
              "       '금', '토', '일', '언급량', '강수량', '적설량', '평균속도', '운행차량수', '대기시간', '대기시간_초'],\n",
              "      dtype='object')"
            ]
          },
          "metadata": {},
          "execution_count": 137
        }
      ]
    },
    {
      "cell_type": "code",
      "source": [
        "temp = df[['언급량', '강수량', '적설량', '평균속도', '운행차량수']]"
      ],
      "metadata": {
        "id": "D17EEt4RD0O6"
      },
      "execution_count": null,
      "outputs": []
    },
    {
      "cell_type": "code",
      "source": [
        "from sklearn.preprocessing import MinMaxScaler\n",
        "\n",
        "transformer = MinMaxScaler()\n",
        "temp = transformer.fit_transform(temp) #MinMaxScaler 모델에 x_train_df 데이터 적용 (최소값, 최대값 계산)"
      ],
      "metadata": {
        "id": "jy7edgxJxmKk"
      },
      "execution_count": null,
      "outputs": []
    },
    {
      "cell_type": "code",
      "source": [
        "temp = pd.DataFrame(temp, columns = ['언급량', '강수량', '적설량', '평균속도', '운행차량수'])"
      ],
      "metadata": {
        "id": "1Bi4ardDxmMy"
      },
      "execution_count": null,
      "outputs": []
    },
    {
      "cell_type": "code",
      "source": [
        "df = df.drop(['언급량', '강수량', '적설량', '평균속도', '운행차량수'], axis = 1)"
      ],
      "metadata": {
        "id": "zWNqnky_E7yo"
      },
      "execution_count": null,
      "outputs": []
    },
    {
      "cell_type": "code",
      "source": [
        "#df.assign(,temp)\n",
        "df2 = pd.concat([df, temp], axis = 1)\n",
        "df2.head()"
      ],
      "metadata": {
        "colab": {
          "base_uri": "https://localhost:8080/",
          "height": 206
        },
        "id": "zkQcJBdpxmOy",
        "outputId": "10ba6b83-e82d-4fbf-bff5-ad9747046a72"
      },
      "execution_count": null,
      "outputs": [
        {
          "output_type": "execute_result",
          "data": {
            "text/plain": [
              "  출발지구군  출발지상세                 예정일시                 승차일시  시간대_30분  요일  월  화  \\\n",
              "0   강북구    송천동  2019-01-01 05:20:00  2019-01-01 05:38:53       10   1  0  1   \n",
              "1   은평구    역촌동  2019-01-01 07:00:00  2019-01-01 07:35:42       14   1  0  1   \n",
              "2   도봉구   창제3동  2019-01-01 07:00:00  2019-01-01 07:30:04       14   1  0  1   \n",
              "3   도봉구  쌍문제4동  2019-01-01 07:00:00  2019-01-01 07:19:37       14   1  0  1   \n",
              "4    중구  신당제4동  2019-01-01 07:00:00  2019-01-01 07:14:49       14   1  0  1   \n",
              "\n",
              "   수  목  금  토  일  대기시간  대기시간_초       언급량  강수량  적설량      평균속도     운행차량수  \n",
              "0  0  0  0  0  0  18.0  1133.0  0.059708  0.0  0.0  0.862338  0.000000  \n",
              "1  0  0  0  0  0  35.0  2142.0  0.522985  0.0  0.0  0.967965  0.275439  \n",
              "2  0  0  0  0  0  30.0  1804.0  0.585398  0.0  0.0  0.890909  0.275439  \n",
              "3  0  0  0  0  0  19.0  1177.0  0.318767  0.0  0.0  0.890909  0.275439  \n",
              "4  0  0  0  0  0  14.0   889.0  0.246512  0.0  0.0  0.945455  0.275439  "
            ],
            "text/html": [
              "\n",
              "  <div id=\"df-3cc44bea-89b9-4461-ba23-0123a61410cb\">\n",
              "    <div class=\"colab-df-container\">\n",
              "      <div>\n",
              "<style scoped>\n",
              "    .dataframe tbody tr th:only-of-type {\n",
              "        vertical-align: middle;\n",
              "    }\n",
              "\n",
              "    .dataframe tbody tr th {\n",
              "        vertical-align: top;\n",
              "    }\n",
              "\n",
              "    .dataframe thead th {\n",
              "        text-align: right;\n",
              "    }\n",
              "</style>\n",
              "<table border=\"1\" class=\"dataframe\">\n",
              "  <thead>\n",
              "    <tr style=\"text-align: right;\">\n",
              "      <th></th>\n",
              "      <th>출발지구군</th>\n",
              "      <th>출발지상세</th>\n",
              "      <th>예정일시</th>\n",
              "      <th>승차일시</th>\n",
              "      <th>시간대_30분</th>\n",
              "      <th>요일</th>\n",
              "      <th>월</th>\n",
              "      <th>화</th>\n",
              "      <th>수</th>\n",
              "      <th>목</th>\n",
              "      <th>금</th>\n",
              "      <th>토</th>\n",
              "      <th>일</th>\n",
              "      <th>대기시간</th>\n",
              "      <th>대기시간_초</th>\n",
              "      <th>언급량</th>\n",
              "      <th>강수량</th>\n",
              "      <th>적설량</th>\n",
              "      <th>평균속도</th>\n",
              "      <th>운행차량수</th>\n",
              "    </tr>\n",
              "  </thead>\n",
              "  <tbody>\n",
              "    <tr>\n",
              "      <th>0</th>\n",
              "      <td>강북구</td>\n",
              "      <td>송천동</td>\n",
              "      <td>2019-01-01 05:20:00</td>\n",
              "      <td>2019-01-01 05:38:53</td>\n",
              "      <td>10</td>\n",
              "      <td>1</td>\n",
              "      <td>0</td>\n",
              "      <td>1</td>\n",
              "      <td>0</td>\n",
              "      <td>0</td>\n",
              "      <td>0</td>\n",
              "      <td>0</td>\n",
              "      <td>0</td>\n",
              "      <td>18.0</td>\n",
              "      <td>1133.0</td>\n",
              "      <td>0.059708</td>\n",
              "      <td>0.0</td>\n",
              "      <td>0.0</td>\n",
              "      <td>0.862338</td>\n",
              "      <td>0.000000</td>\n",
              "    </tr>\n",
              "    <tr>\n",
              "      <th>1</th>\n",
              "      <td>은평구</td>\n",
              "      <td>역촌동</td>\n",
              "      <td>2019-01-01 07:00:00</td>\n",
              "      <td>2019-01-01 07:35:42</td>\n",
              "      <td>14</td>\n",
              "      <td>1</td>\n",
              "      <td>0</td>\n",
              "      <td>1</td>\n",
              "      <td>0</td>\n",
              "      <td>0</td>\n",
              "      <td>0</td>\n",
              "      <td>0</td>\n",
              "      <td>0</td>\n",
              "      <td>35.0</td>\n",
              "      <td>2142.0</td>\n",
              "      <td>0.522985</td>\n",
              "      <td>0.0</td>\n",
              "      <td>0.0</td>\n",
              "      <td>0.967965</td>\n",
              "      <td>0.275439</td>\n",
              "    </tr>\n",
              "    <tr>\n",
              "      <th>2</th>\n",
              "      <td>도봉구</td>\n",
              "      <td>창제3동</td>\n",
              "      <td>2019-01-01 07:00:00</td>\n",
              "      <td>2019-01-01 07:30:04</td>\n",
              "      <td>14</td>\n",
              "      <td>1</td>\n",
              "      <td>0</td>\n",
              "      <td>1</td>\n",
              "      <td>0</td>\n",
              "      <td>0</td>\n",
              "      <td>0</td>\n",
              "      <td>0</td>\n",
              "      <td>0</td>\n",
              "      <td>30.0</td>\n",
              "      <td>1804.0</td>\n",
              "      <td>0.585398</td>\n",
              "      <td>0.0</td>\n",
              "      <td>0.0</td>\n",
              "      <td>0.890909</td>\n",
              "      <td>0.275439</td>\n",
              "    </tr>\n",
              "    <tr>\n",
              "      <th>3</th>\n",
              "      <td>도봉구</td>\n",
              "      <td>쌍문제4동</td>\n",
              "      <td>2019-01-01 07:00:00</td>\n",
              "      <td>2019-01-01 07:19:37</td>\n",
              "      <td>14</td>\n",
              "      <td>1</td>\n",
              "      <td>0</td>\n",
              "      <td>1</td>\n",
              "      <td>0</td>\n",
              "      <td>0</td>\n",
              "      <td>0</td>\n",
              "      <td>0</td>\n",
              "      <td>0</td>\n",
              "      <td>19.0</td>\n",
              "      <td>1177.0</td>\n",
              "      <td>0.318767</td>\n",
              "      <td>0.0</td>\n",
              "      <td>0.0</td>\n",
              "      <td>0.890909</td>\n",
              "      <td>0.275439</td>\n",
              "    </tr>\n",
              "    <tr>\n",
              "      <th>4</th>\n",
              "      <td>중구</td>\n",
              "      <td>신당제4동</td>\n",
              "      <td>2019-01-01 07:00:00</td>\n",
              "      <td>2019-01-01 07:14:49</td>\n",
              "      <td>14</td>\n",
              "      <td>1</td>\n",
              "      <td>0</td>\n",
              "      <td>1</td>\n",
              "      <td>0</td>\n",
              "      <td>0</td>\n",
              "      <td>0</td>\n",
              "      <td>0</td>\n",
              "      <td>0</td>\n",
              "      <td>14.0</td>\n",
              "      <td>889.0</td>\n",
              "      <td>0.246512</td>\n",
              "      <td>0.0</td>\n",
              "      <td>0.0</td>\n",
              "      <td>0.945455</td>\n",
              "      <td>0.275439</td>\n",
              "    </tr>\n",
              "  </tbody>\n",
              "</table>\n",
              "</div>\n",
              "      <button class=\"colab-df-convert\" onclick=\"convertToInteractive('df-3cc44bea-89b9-4461-ba23-0123a61410cb')\"\n",
              "              title=\"Convert this dataframe to an interactive table.\"\n",
              "              style=\"display:none;\">\n",
              "        \n",
              "  <svg xmlns=\"http://www.w3.org/2000/svg\" height=\"24px\"viewBox=\"0 0 24 24\"\n",
              "       width=\"24px\">\n",
              "    <path d=\"M0 0h24v24H0V0z\" fill=\"none\"/>\n",
              "    <path d=\"M18.56 5.44l.94 2.06.94-2.06 2.06-.94-2.06-.94-.94-2.06-.94 2.06-2.06.94zm-11 1L8.5 8.5l.94-2.06 2.06-.94-2.06-.94L8.5 2.5l-.94 2.06-2.06.94zm10 10l.94 2.06.94-2.06 2.06-.94-2.06-.94-.94-2.06-.94 2.06-2.06.94z\"/><path d=\"M17.41 7.96l-1.37-1.37c-.4-.4-.92-.59-1.43-.59-.52 0-1.04.2-1.43.59L10.3 9.45l-7.72 7.72c-.78.78-.78 2.05 0 2.83L4 21.41c.39.39.9.59 1.41.59.51 0 1.02-.2 1.41-.59l7.78-7.78 2.81-2.81c.8-.78.8-2.07 0-2.86zM5.41 20L4 18.59l7.72-7.72 1.47 1.35L5.41 20z\"/>\n",
              "  </svg>\n",
              "      </button>\n",
              "      \n",
              "  <style>\n",
              "    .colab-df-container {\n",
              "      display:flex;\n",
              "      flex-wrap:wrap;\n",
              "      gap: 12px;\n",
              "    }\n",
              "\n",
              "    .colab-df-convert {\n",
              "      background-color: #E8F0FE;\n",
              "      border: none;\n",
              "      border-radius: 50%;\n",
              "      cursor: pointer;\n",
              "      display: none;\n",
              "      fill: #1967D2;\n",
              "      height: 32px;\n",
              "      padding: 0 0 0 0;\n",
              "      width: 32px;\n",
              "    }\n",
              "\n",
              "    .colab-df-convert:hover {\n",
              "      background-color: #E2EBFA;\n",
              "      box-shadow: 0px 1px 2px rgba(60, 64, 67, 0.3), 0px 1px 3px 1px rgba(60, 64, 67, 0.15);\n",
              "      fill: #174EA6;\n",
              "    }\n",
              "\n",
              "    [theme=dark] .colab-df-convert {\n",
              "      background-color: #3B4455;\n",
              "      fill: #D2E3FC;\n",
              "    }\n",
              "\n",
              "    [theme=dark] .colab-df-convert:hover {\n",
              "      background-color: #434B5C;\n",
              "      box-shadow: 0px 1px 3px 1px rgba(0, 0, 0, 0.15);\n",
              "      filter: drop-shadow(0px 1px 2px rgba(0, 0, 0, 0.3));\n",
              "      fill: #FFFFFF;\n",
              "    }\n",
              "  </style>\n",
              "\n",
              "      <script>\n",
              "        const buttonEl =\n",
              "          document.querySelector('#df-3cc44bea-89b9-4461-ba23-0123a61410cb button.colab-df-convert');\n",
              "        buttonEl.style.display =\n",
              "          google.colab.kernel.accessAllowed ? 'block' : 'none';\n",
              "\n",
              "        async function convertToInteractive(key) {\n",
              "          const element = document.querySelector('#df-3cc44bea-89b9-4461-ba23-0123a61410cb');\n",
              "          const dataTable =\n",
              "            await google.colab.kernel.invokeFunction('convertToInteractive',\n",
              "                                                     [key], {});\n",
              "          if (!dataTable) return;\n",
              "\n",
              "          const docLinkHtml = 'Like what you see? Visit the ' +\n",
              "            '<a target=\"_blank\" href=https://colab.research.google.com/notebooks/data_table.ipynb>data table notebook</a>'\n",
              "            + ' to learn more about interactive tables.';\n",
              "          element.innerHTML = '';\n",
              "          dataTable['output_type'] = 'display_data';\n",
              "          await google.colab.output.renderOutput(dataTable, element);\n",
              "          const docLink = document.createElement('div');\n",
              "          docLink.innerHTML = docLinkHtml;\n",
              "          element.appendChild(docLink);\n",
              "        }\n",
              "      </script>\n",
              "    </div>\n",
              "  </div>\n",
              "  "
            ]
          },
          "metadata": {},
          "execution_count": 39
        }
      ]
    },
    {
      "cell_type": "code",
      "source": [
        "df2.columns"
      ],
      "metadata": {
        "id": "QUeIAmxDjFn3",
        "colab": {
          "base_uri": "https://localhost:8080/"
        },
        "outputId": "7387e170-1e6d-471c-c183-3000f8897bf0"
      },
      "execution_count": null,
      "outputs": [
        {
          "output_type": "execute_result",
          "data": {
            "text/plain": [
              "Index(['출발지구군', '출발지상세', '예정일시', '승차일시', '시간대_30분', '요일', '월', '화', '수', '목',\n",
              "       '금', '토', '일', '대기시간', '대기시간_초', '언급량', '강수량', '적설량', '평균속도', '운행차량수'],\n",
              "      dtype='object')"
            ]
          },
          "metadata": {},
          "execution_count": 40
        }
      ]
    },
    {
      "cell_type": "code",
      "source": [
        "df2 = df2[['출발지구군', '출발지상세', '예정일시', '승차일시', '시간대_30분', '요일', '월', '화', '수', '목',\n",
        "       '금', '토', '일', '언급량', '강수량', '적설량',\n",
        "       '평균속도', '운행차량수', '대기시간', '대기시간_초']]"
      ],
      "metadata": {
        "id": "7JU81PDAxmRD"
      },
      "execution_count": null,
      "outputs": []
    },
    {
      "cell_type": "code",
      "source": [
        "df2.to_csv('통합데이터_표준화.csv', index = False)"
      ],
      "metadata": {
        "id": "vw4dCanRGkhg"
      },
      "execution_count": null,
      "outputs": []
    },
    {
      "cell_type": "code",
      "source": [
        "# 상관계수가 0.3 이상인 것 출력\n",
        "# |0.3| >= 약한 상관관계\n",
        "# |0.7| >= 강한 상관관계\n",
        "df_cor = df2[['시간대_30분', '요일', '언급량', '강수량', '적설량', '평균속도',\n",
        "       '운행차량수', '대기시간']].corr().drop(['대기시간'])[['대기시간']].abs()\n",
        "df_cor"
      ],
      "metadata": {
        "id": "wWrawxwxZ61y",
        "colab": {
          "base_uri": "https://localhost:8080/",
          "height": 238
        },
        "outputId": "bd11d2f9-43b0-42a0-d6bd-aac2f96e0267"
      },
      "execution_count": null,
      "outputs": [
        {
          "output_type": "execute_result",
          "data": {
            "text/plain": [
              "             대기시간\n",
              "시간대_30분  0.011636\n",
              "언급량      0.065646\n",
              "강수량      0.021328\n",
              "적설량      0.040697\n",
              "평균속도     0.084557\n",
              "운행차량수    0.141871"
            ],
            "text/html": [
              "\n",
              "  <div id=\"df-6ce2d524-85b8-4beb-9726-2ebbecd02925\">\n",
              "    <div class=\"colab-df-container\">\n",
              "      <div>\n",
              "<style scoped>\n",
              "    .dataframe tbody tr th:only-of-type {\n",
              "        vertical-align: middle;\n",
              "    }\n",
              "\n",
              "    .dataframe tbody tr th {\n",
              "        vertical-align: top;\n",
              "    }\n",
              "\n",
              "    .dataframe thead th {\n",
              "        text-align: right;\n",
              "    }\n",
              "</style>\n",
              "<table border=\"1\" class=\"dataframe\">\n",
              "  <thead>\n",
              "    <tr style=\"text-align: right;\">\n",
              "      <th></th>\n",
              "      <th>대기시간</th>\n",
              "    </tr>\n",
              "  </thead>\n",
              "  <tbody>\n",
              "    <tr>\n",
              "      <th>시간대_30분</th>\n",
              "      <td>0.011636</td>\n",
              "    </tr>\n",
              "    <tr>\n",
              "      <th>언급량</th>\n",
              "      <td>0.065646</td>\n",
              "    </tr>\n",
              "    <tr>\n",
              "      <th>강수량</th>\n",
              "      <td>0.021328</td>\n",
              "    </tr>\n",
              "    <tr>\n",
              "      <th>적설량</th>\n",
              "      <td>0.040697</td>\n",
              "    </tr>\n",
              "    <tr>\n",
              "      <th>평균속도</th>\n",
              "      <td>0.084557</td>\n",
              "    </tr>\n",
              "    <tr>\n",
              "      <th>운행차량수</th>\n",
              "      <td>0.141871</td>\n",
              "    </tr>\n",
              "  </tbody>\n",
              "</table>\n",
              "</div>\n",
              "      <button class=\"colab-df-convert\" onclick=\"convertToInteractive('df-6ce2d524-85b8-4beb-9726-2ebbecd02925')\"\n",
              "              title=\"Convert this dataframe to an interactive table.\"\n",
              "              style=\"display:none;\">\n",
              "        \n",
              "  <svg xmlns=\"http://www.w3.org/2000/svg\" height=\"24px\"viewBox=\"0 0 24 24\"\n",
              "       width=\"24px\">\n",
              "    <path d=\"M0 0h24v24H0V0z\" fill=\"none\"/>\n",
              "    <path d=\"M18.56 5.44l.94 2.06.94-2.06 2.06-.94-2.06-.94-.94-2.06-.94 2.06-2.06.94zm-11 1L8.5 8.5l.94-2.06 2.06-.94-2.06-.94L8.5 2.5l-.94 2.06-2.06.94zm10 10l.94 2.06.94-2.06 2.06-.94-2.06-.94-.94-2.06-.94 2.06-2.06.94z\"/><path d=\"M17.41 7.96l-1.37-1.37c-.4-.4-.92-.59-1.43-.59-.52 0-1.04.2-1.43.59L10.3 9.45l-7.72 7.72c-.78.78-.78 2.05 0 2.83L4 21.41c.39.39.9.59 1.41.59.51 0 1.02-.2 1.41-.59l7.78-7.78 2.81-2.81c.8-.78.8-2.07 0-2.86zM5.41 20L4 18.59l7.72-7.72 1.47 1.35L5.41 20z\"/>\n",
              "  </svg>\n",
              "      </button>\n",
              "      \n",
              "  <style>\n",
              "    .colab-df-container {\n",
              "      display:flex;\n",
              "      flex-wrap:wrap;\n",
              "      gap: 12px;\n",
              "    }\n",
              "\n",
              "    .colab-df-convert {\n",
              "      background-color: #E8F0FE;\n",
              "      border: none;\n",
              "      border-radius: 50%;\n",
              "      cursor: pointer;\n",
              "      display: none;\n",
              "      fill: #1967D2;\n",
              "      height: 32px;\n",
              "      padding: 0 0 0 0;\n",
              "      width: 32px;\n",
              "    }\n",
              "\n",
              "    .colab-df-convert:hover {\n",
              "      background-color: #E2EBFA;\n",
              "      box-shadow: 0px 1px 2px rgba(60, 64, 67, 0.3), 0px 1px 3px 1px rgba(60, 64, 67, 0.15);\n",
              "      fill: #174EA6;\n",
              "    }\n",
              "\n",
              "    [theme=dark] .colab-df-convert {\n",
              "      background-color: #3B4455;\n",
              "      fill: #D2E3FC;\n",
              "    }\n",
              "\n",
              "    [theme=dark] .colab-df-convert:hover {\n",
              "      background-color: #434B5C;\n",
              "      box-shadow: 0px 1px 3px 1px rgba(0, 0, 0, 0.15);\n",
              "      filter: drop-shadow(0px 1px 2px rgba(0, 0, 0, 0.3));\n",
              "      fill: #FFFFFF;\n",
              "    }\n",
              "  </style>\n",
              "\n",
              "      <script>\n",
              "        const buttonEl =\n",
              "          document.querySelector('#df-6ce2d524-85b8-4beb-9726-2ebbecd02925 button.colab-df-convert');\n",
              "        buttonEl.style.display =\n",
              "          google.colab.kernel.accessAllowed ? 'block' : 'none';\n",
              "\n",
              "        async function convertToInteractive(key) {\n",
              "          const element = document.querySelector('#df-6ce2d524-85b8-4beb-9726-2ebbecd02925');\n",
              "          const dataTable =\n",
              "            await google.colab.kernel.invokeFunction('convertToInteractive',\n",
              "                                                     [key], {});\n",
              "          if (!dataTable) return;\n",
              "\n",
              "          const docLinkHtml = 'Like what you see? Visit the ' +\n",
              "            '<a target=\"_blank\" href=https://colab.research.google.com/notebooks/data_table.ipynb>data table notebook</a>'\n",
              "            + ' to learn more about interactive tables.';\n",
              "          element.innerHTML = '';\n",
              "          dataTable['output_type'] = 'display_data';\n",
              "          await google.colab.output.renderOutput(dataTable, element);\n",
              "          const docLink = document.createElement('div');\n",
              "          docLink.innerHTML = docLinkHtml;\n",
              "          element.appendChild(docLink);\n",
              "        }\n",
              "      </script>\n",
              "    </div>\n",
              "  </div>\n",
              "  "
            ]
          },
          "metadata": {},
          "execution_count": 175
        }
      ]
    },
    {
      "cell_type": "code",
      "source": [
        "df_cor = df2[['시간대_30분', '요일', '월', '화', '수', '목',\n",
        "       '금', '토', '일', '언급량', '강수량', '적설량', '평균속도',\n",
        "       '운행차량수', '대기시간']].corr().drop(['대기시간'])[['대기시간']].abs()\n",
        "df_cor"
      ],
      "metadata": {
        "colab": {
          "base_uri": "https://localhost:8080/",
          "height": 488
        },
        "id": "4TsopGPKPf0O",
        "outputId": "aa2e172b-8891-4c2c-cdef-ec5372cf0ed8"
      },
      "execution_count": null,
      "outputs": [
        {
          "output_type": "execute_result",
          "data": {
            "text/plain": [
              "             대기시간\n",
              "시간대_30분  0.009674\n",
              "요일       0.046723\n",
              "월        0.001028\n",
              "화        0.028500\n",
              "수        0.019543\n",
              "목        0.012518\n",
              "금        0.011980\n",
              "토        0.022465\n",
              "일        0.057275\n",
              "언급량      0.066297\n",
              "강수량      0.021908\n",
              "적설량      0.040756\n",
              "평균속도     0.083049\n",
              "운행차량수    0.148441"
            ],
            "text/html": [
              "\n",
              "  <div id=\"df-7a79265b-625a-4c6a-bf21-4a3574510fe6\">\n",
              "    <div class=\"colab-df-container\">\n",
              "      <div>\n",
              "<style scoped>\n",
              "    .dataframe tbody tr th:only-of-type {\n",
              "        vertical-align: middle;\n",
              "    }\n",
              "\n",
              "    .dataframe tbody tr th {\n",
              "        vertical-align: top;\n",
              "    }\n",
              "\n",
              "    .dataframe thead th {\n",
              "        text-align: right;\n",
              "    }\n",
              "</style>\n",
              "<table border=\"1\" class=\"dataframe\">\n",
              "  <thead>\n",
              "    <tr style=\"text-align: right;\">\n",
              "      <th></th>\n",
              "      <th>대기시간</th>\n",
              "    </tr>\n",
              "  </thead>\n",
              "  <tbody>\n",
              "    <tr>\n",
              "      <th>시간대_30분</th>\n",
              "      <td>0.009674</td>\n",
              "    </tr>\n",
              "    <tr>\n",
              "      <th>요일</th>\n",
              "      <td>0.046723</td>\n",
              "    </tr>\n",
              "    <tr>\n",
              "      <th>월</th>\n",
              "      <td>0.001028</td>\n",
              "    </tr>\n",
              "    <tr>\n",
              "      <th>화</th>\n",
              "      <td>0.028500</td>\n",
              "    </tr>\n",
              "    <tr>\n",
              "      <th>수</th>\n",
              "      <td>0.019543</td>\n",
              "    </tr>\n",
              "    <tr>\n",
              "      <th>목</th>\n",
              "      <td>0.012518</td>\n",
              "    </tr>\n",
              "    <tr>\n",
              "      <th>금</th>\n",
              "      <td>0.011980</td>\n",
              "    </tr>\n",
              "    <tr>\n",
              "      <th>토</th>\n",
              "      <td>0.022465</td>\n",
              "    </tr>\n",
              "    <tr>\n",
              "      <th>일</th>\n",
              "      <td>0.057275</td>\n",
              "    </tr>\n",
              "    <tr>\n",
              "      <th>언급량</th>\n",
              "      <td>0.066297</td>\n",
              "    </tr>\n",
              "    <tr>\n",
              "      <th>강수량</th>\n",
              "      <td>0.021908</td>\n",
              "    </tr>\n",
              "    <tr>\n",
              "      <th>적설량</th>\n",
              "      <td>0.040756</td>\n",
              "    </tr>\n",
              "    <tr>\n",
              "      <th>평균속도</th>\n",
              "      <td>0.083049</td>\n",
              "    </tr>\n",
              "    <tr>\n",
              "      <th>운행차량수</th>\n",
              "      <td>0.148441</td>\n",
              "    </tr>\n",
              "  </tbody>\n",
              "</table>\n",
              "</div>\n",
              "      <button class=\"colab-df-convert\" onclick=\"convertToInteractive('df-7a79265b-625a-4c6a-bf21-4a3574510fe6')\"\n",
              "              title=\"Convert this dataframe to an interactive table.\"\n",
              "              style=\"display:none;\">\n",
              "        \n",
              "  <svg xmlns=\"http://www.w3.org/2000/svg\" height=\"24px\"viewBox=\"0 0 24 24\"\n",
              "       width=\"24px\">\n",
              "    <path d=\"M0 0h24v24H0V0z\" fill=\"none\"/>\n",
              "    <path d=\"M18.56 5.44l.94 2.06.94-2.06 2.06-.94-2.06-.94-.94-2.06-.94 2.06-2.06.94zm-11 1L8.5 8.5l.94-2.06 2.06-.94-2.06-.94L8.5 2.5l-.94 2.06-2.06.94zm10 10l.94 2.06.94-2.06 2.06-.94-2.06-.94-.94-2.06-.94 2.06-2.06.94z\"/><path d=\"M17.41 7.96l-1.37-1.37c-.4-.4-.92-.59-1.43-.59-.52 0-1.04.2-1.43.59L10.3 9.45l-7.72 7.72c-.78.78-.78 2.05 0 2.83L4 21.41c.39.39.9.59 1.41.59.51 0 1.02-.2 1.41-.59l7.78-7.78 2.81-2.81c.8-.78.8-2.07 0-2.86zM5.41 20L4 18.59l7.72-7.72 1.47 1.35L5.41 20z\"/>\n",
              "  </svg>\n",
              "      </button>\n",
              "      \n",
              "  <style>\n",
              "    .colab-df-container {\n",
              "      display:flex;\n",
              "      flex-wrap:wrap;\n",
              "      gap: 12px;\n",
              "    }\n",
              "\n",
              "    .colab-df-convert {\n",
              "      background-color: #E8F0FE;\n",
              "      border: none;\n",
              "      border-radius: 50%;\n",
              "      cursor: pointer;\n",
              "      display: none;\n",
              "      fill: #1967D2;\n",
              "      height: 32px;\n",
              "      padding: 0 0 0 0;\n",
              "      width: 32px;\n",
              "    }\n",
              "\n",
              "    .colab-df-convert:hover {\n",
              "      background-color: #E2EBFA;\n",
              "      box-shadow: 0px 1px 2px rgba(60, 64, 67, 0.3), 0px 1px 3px 1px rgba(60, 64, 67, 0.15);\n",
              "      fill: #174EA6;\n",
              "    }\n",
              "\n",
              "    [theme=dark] .colab-df-convert {\n",
              "      background-color: #3B4455;\n",
              "      fill: #D2E3FC;\n",
              "    }\n",
              "\n",
              "    [theme=dark] .colab-df-convert:hover {\n",
              "      background-color: #434B5C;\n",
              "      box-shadow: 0px 1px 3px 1px rgba(0, 0, 0, 0.15);\n",
              "      filter: drop-shadow(0px 1px 2px rgba(0, 0, 0, 0.3));\n",
              "      fill: #FFFFFF;\n",
              "    }\n",
              "  </style>\n",
              "\n",
              "      <script>\n",
              "        const buttonEl =\n",
              "          document.querySelector('#df-7a79265b-625a-4c6a-bf21-4a3574510fe6 button.colab-df-convert');\n",
              "        buttonEl.style.display =\n",
              "          google.colab.kernel.accessAllowed ? 'block' : 'none';\n",
              "\n",
              "        async function convertToInteractive(key) {\n",
              "          const element = document.querySelector('#df-7a79265b-625a-4c6a-bf21-4a3574510fe6');\n",
              "          const dataTable =\n",
              "            await google.colab.kernel.invokeFunction('convertToInteractive',\n",
              "                                                     [key], {});\n",
              "          if (!dataTable) return;\n",
              "\n",
              "          const docLinkHtml = 'Like what you see? Visit the ' +\n",
              "            '<a target=\"_blank\" href=https://colab.research.google.com/notebooks/data_table.ipynb>data table notebook</a>'\n",
              "            + ' to learn more about interactive tables.';\n",
              "          element.innerHTML = '';\n",
              "          dataTable['output_type'] = 'display_data';\n",
              "          await google.colab.output.renderOutput(dataTable, element);\n",
              "          const docLink = document.createElement('div');\n",
              "          docLink.innerHTML = docLinkHtml;\n",
              "          element.appendChild(docLink);\n",
              "        }\n",
              "      </script>\n",
              "    </div>\n",
              "  </div>\n",
              "  "
            ]
          },
          "metadata": {},
          "execution_count": 43
        }
      ]
    },
    {
      "cell_type": "code",
      "source": [
        "temp = df2[['예정일시','시간대_30분', '요일', '월', '화', '수', '목', '금', '토', '일', '언급량', '강수량', '적설량', '평균속도',\n",
        "       '운행차량수', '대기시간']]\n",
        "temp['예정일시'] = pd.to_datetime(temp['예정일시'])"
      ],
      "metadata": {
        "id": "DysQ8guVP231"
      },
      "execution_count": null,
      "outputs": []
    },
    {
      "cell_type": "code",
      "source": [
        "temp.head()"
      ],
      "metadata": {
        "colab": {
          "base_uri": "https://localhost:8080/",
          "height": 206
        },
        "id": "rYR5_OMjT426",
        "outputId": "d890aaf9-523b-42e0-91da-3cc664ed95ab"
      },
      "execution_count": null,
      "outputs": [
        {
          "output_type": "execute_result",
          "data": {
            "text/plain": [
              "                 예정일시  시간대_30분  요일  월  화  수  목  금  토  일       언급량  강수량  적설량  \\\n",
              "0 2019-01-01 05:20:00       10   1  0  1  0  0  0  0  0  0.059708  0.0  0.0   \n",
              "1 2019-01-01 07:00:00       14   1  0  1  0  0  0  0  0  0.522985  0.0  0.0   \n",
              "2 2019-01-01 07:00:00       14   1  0  1  0  0  0  0  0  0.585398  0.0  0.0   \n",
              "3 2019-01-01 07:00:00       14   1  0  1  0  0  0  0  0  0.318767  0.0  0.0   \n",
              "4 2019-01-01 07:00:00       14   1  0  1  0  0  0  0  0  0.246512  0.0  0.0   \n",
              "\n",
              "       평균속도     운행차량수  대기시간  year  \n",
              "0  0.862338  0.000000  18.0  2019  \n",
              "1  0.967965  0.275439  35.0  2019  \n",
              "2  0.890909  0.275439  30.0  2019  \n",
              "3  0.890909  0.275439  19.0  2019  \n",
              "4  0.945455  0.275439  14.0  2019  "
            ],
            "text/html": [
              "\n",
              "  <div id=\"df-aa1f0964-b3b8-4140-9a65-5f2ba51d62d1\">\n",
              "    <div class=\"colab-df-container\">\n",
              "      <div>\n",
              "<style scoped>\n",
              "    .dataframe tbody tr th:only-of-type {\n",
              "        vertical-align: middle;\n",
              "    }\n",
              "\n",
              "    .dataframe tbody tr th {\n",
              "        vertical-align: top;\n",
              "    }\n",
              "\n",
              "    .dataframe thead th {\n",
              "        text-align: right;\n",
              "    }\n",
              "</style>\n",
              "<table border=\"1\" class=\"dataframe\">\n",
              "  <thead>\n",
              "    <tr style=\"text-align: right;\">\n",
              "      <th></th>\n",
              "      <th>예정일시</th>\n",
              "      <th>시간대_30분</th>\n",
              "      <th>요일</th>\n",
              "      <th>월</th>\n",
              "      <th>화</th>\n",
              "      <th>수</th>\n",
              "      <th>목</th>\n",
              "      <th>금</th>\n",
              "      <th>토</th>\n",
              "      <th>일</th>\n",
              "      <th>언급량</th>\n",
              "      <th>강수량</th>\n",
              "      <th>적설량</th>\n",
              "      <th>평균속도</th>\n",
              "      <th>운행차량수</th>\n",
              "      <th>대기시간</th>\n",
              "      <th>year</th>\n",
              "    </tr>\n",
              "  </thead>\n",
              "  <tbody>\n",
              "    <tr>\n",
              "      <th>0</th>\n",
              "      <td>2019-01-01 05:20:00</td>\n",
              "      <td>10</td>\n",
              "      <td>1</td>\n",
              "      <td>0</td>\n",
              "      <td>1</td>\n",
              "      <td>0</td>\n",
              "      <td>0</td>\n",
              "      <td>0</td>\n",
              "      <td>0</td>\n",
              "      <td>0</td>\n",
              "      <td>0.059708</td>\n",
              "      <td>0.0</td>\n",
              "      <td>0.0</td>\n",
              "      <td>0.862338</td>\n",
              "      <td>0.000000</td>\n",
              "      <td>18.0</td>\n",
              "      <td>2019</td>\n",
              "    </tr>\n",
              "    <tr>\n",
              "      <th>1</th>\n",
              "      <td>2019-01-01 07:00:00</td>\n",
              "      <td>14</td>\n",
              "      <td>1</td>\n",
              "      <td>0</td>\n",
              "      <td>1</td>\n",
              "      <td>0</td>\n",
              "      <td>0</td>\n",
              "      <td>0</td>\n",
              "      <td>0</td>\n",
              "      <td>0</td>\n",
              "      <td>0.522985</td>\n",
              "      <td>0.0</td>\n",
              "      <td>0.0</td>\n",
              "      <td>0.967965</td>\n",
              "      <td>0.275439</td>\n",
              "      <td>35.0</td>\n",
              "      <td>2019</td>\n",
              "    </tr>\n",
              "    <tr>\n",
              "      <th>2</th>\n",
              "      <td>2019-01-01 07:00:00</td>\n",
              "      <td>14</td>\n",
              "      <td>1</td>\n",
              "      <td>0</td>\n",
              "      <td>1</td>\n",
              "      <td>0</td>\n",
              "      <td>0</td>\n",
              "      <td>0</td>\n",
              "      <td>0</td>\n",
              "      <td>0</td>\n",
              "      <td>0.585398</td>\n",
              "      <td>0.0</td>\n",
              "      <td>0.0</td>\n",
              "      <td>0.890909</td>\n",
              "      <td>0.275439</td>\n",
              "      <td>30.0</td>\n",
              "      <td>2019</td>\n",
              "    </tr>\n",
              "    <tr>\n",
              "      <th>3</th>\n",
              "      <td>2019-01-01 07:00:00</td>\n",
              "      <td>14</td>\n",
              "      <td>1</td>\n",
              "      <td>0</td>\n",
              "      <td>1</td>\n",
              "      <td>0</td>\n",
              "      <td>0</td>\n",
              "      <td>0</td>\n",
              "      <td>0</td>\n",
              "      <td>0</td>\n",
              "      <td>0.318767</td>\n",
              "      <td>0.0</td>\n",
              "      <td>0.0</td>\n",
              "      <td>0.890909</td>\n",
              "      <td>0.275439</td>\n",
              "      <td>19.0</td>\n",
              "      <td>2019</td>\n",
              "    </tr>\n",
              "    <tr>\n",
              "      <th>4</th>\n",
              "      <td>2019-01-01 07:00:00</td>\n",
              "      <td>14</td>\n",
              "      <td>1</td>\n",
              "      <td>0</td>\n",
              "      <td>1</td>\n",
              "      <td>0</td>\n",
              "      <td>0</td>\n",
              "      <td>0</td>\n",
              "      <td>0</td>\n",
              "      <td>0</td>\n",
              "      <td>0.246512</td>\n",
              "      <td>0.0</td>\n",
              "      <td>0.0</td>\n",
              "      <td>0.945455</td>\n",
              "      <td>0.275439</td>\n",
              "      <td>14.0</td>\n",
              "      <td>2019</td>\n",
              "    </tr>\n",
              "  </tbody>\n",
              "</table>\n",
              "</div>\n",
              "      <button class=\"colab-df-convert\" onclick=\"convertToInteractive('df-aa1f0964-b3b8-4140-9a65-5f2ba51d62d1')\"\n",
              "              title=\"Convert this dataframe to an interactive table.\"\n",
              "              style=\"display:none;\">\n",
              "        \n",
              "  <svg xmlns=\"http://www.w3.org/2000/svg\" height=\"24px\"viewBox=\"0 0 24 24\"\n",
              "       width=\"24px\">\n",
              "    <path d=\"M0 0h24v24H0V0z\" fill=\"none\"/>\n",
              "    <path d=\"M18.56 5.44l.94 2.06.94-2.06 2.06-.94-2.06-.94-.94-2.06-.94 2.06-2.06.94zm-11 1L8.5 8.5l.94-2.06 2.06-.94-2.06-.94L8.5 2.5l-.94 2.06-2.06.94zm10 10l.94 2.06.94-2.06 2.06-.94-2.06-.94-.94-2.06-.94 2.06-2.06.94z\"/><path d=\"M17.41 7.96l-1.37-1.37c-.4-.4-.92-.59-1.43-.59-.52 0-1.04.2-1.43.59L10.3 9.45l-7.72 7.72c-.78.78-.78 2.05 0 2.83L4 21.41c.39.39.9.59 1.41.59.51 0 1.02-.2 1.41-.59l7.78-7.78 2.81-2.81c.8-.78.8-2.07 0-2.86zM5.41 20L4 18.59l7.72-7.72 1.47 1.35L5.41 20z\"/>\n",
              "  </svg>\n",
              "      </button>\n",
              "      \n",
              "  <style>\n",
              "    .colab-df-container {\n",
              "      display:flex;\n",
              "      flex-wrap:wrap;\n",
              "      gap: 12px;\n",
              "    }\n",
              "\n",
              "    .colab-df-convert {\n",
              "      background-color: #E8F0FE;\n",
              "      border: none;\n",
              "      border-radius: 50%;\n",
              "      cursor: pointer;\n",
              "      display: none;\n",
              "      fill: #1967D2;\n",
              "      height: 32px;\n",
              "      padding: 0 0 0 0;\n",
              "      width: 32px;\n",
              "    }\n",
              "\n",
              "    .colab-df-convert:hover {\n",
              "      background-color: #E2EBFA;\n",
              "      box-shadow: 0px 1px 2px rgba(60, 64, 67, 0.3), 0px 1px 3px 1px rgba(60, 64, 67, 0.15);\n",
              "      fill: #174EA6;\n",
              "    }\n",
              "\n",
              "    [theme=dark] .colab-df-convert {\n",
              "      background-color: #3B4455;\n",
              "      fill: #D2E3FC;\n",
              "    }\n",
              "\n",
              "    [theme=dark] .colab-df-convert:hover {\n",
              "      background-color: #434B5C;\n",
              "      box-shadow: 0px 1px 3px 1px rgba(0, 0, 0, 0.15);\n",
              "      filter: drop-shadow(0px 1px 2px rgba(0, 0, 0, 0.3));\n",
              "      fill: #FFFFFF;\n",
              "    }\n",
              "  </style>\n",
              "\n",
              "      <script>\n",
              "        const buttonEl =\n",
              "          document.querySelector('#df-aa1f0964-b3b8-4140-9a65-5f2ba51d62d1 button.colab-df-convert');\n",
              "        buttonEl.style.display =\n",
              "          google.colab.kernel.accessAllowed ? 'block' : 'none';\n",
              "\n",
              "        async function convertToInteractive(key) {\n",
              "          const element = document.querySelector('#df-aa1f0964-b3b8-4140-9a65-5f2ba51d62d1');\n",
              "          const dataTable =\n",
              "            await google.colab.kernel.invokeFunction('convertToInteractive',\n",
              "                                                     [key], {});\n",
              "          if (!dataTable) return;\n",
              "\n",
              "          const docLinkHtml = 'Like what you see? Visit the ' +\n",
              "            '<a target=\"_blank\" href=https://colab.research.google.com/notebooks/data_table.ipynb>data table notebook</a>'\n",
              "            + ' to learn more about interactive tables.';\n",
              "          element.innerHTML = '';\n",
              "          dataTable['output_type'] = 'display_data';\n",
              "          await google.colab.output.renderOutput(dataTable, element);\n",
              "          const docLink = document.createElement('div');\n",
              "          docLink.innerHTML = docLinkHtml;\n",
              "          element.appendChild(docLink);\n",
              "        }\n",
              "      </script>\n",
              "    </div>\n",
              "  </div>\n",
              "  "
            ]
          },
          "metadata": {},
          "execution_count": 59
        }
      ]
    },
    {
      "cell_type": "code",
      "source": [
        "temp.loc[1,'예정일시'].year"
      ],
      "metadata": {
        "colab": {
          "base_uri": "https://localhost:8080/"
        },
        "id": "kDz3nssLSIGv",
        "outputId": "5fc86420-d917-4e63-9cb8-97518b8b2307"
      },
      "execution_count": null,
      "outputs": [
        {
          "output_type": "execute_result",
          "data": {
            "text/plain": [
              "2019"
            ]
          },
          "metadata": {},
          "execution_count": 51
        }
      ]
    },
    {
      "cell_type": "code",
      "source": [
        "# 년도 추가 \n",
        "add_lst = []\n",
        "for i in tqdm(temp.index):\n",
        "    add_lst.append(temp.loc[i,'예정일시'].year)\n",
        "temp['year'] = add_lst"
      ],
      "metadata": {
        "colab": {
          "base_uri": "https://localhost:8080/"
        },
        "id": "-z7MJZanQa6I",
        "outputId": "156061cb-e953-4838-d892-68b31a473f9c"
      },
      "execution_count": null,
      "outputs": [
        {
          "output_type": "stream",
          "name": "stderr",
          "text": [
            "100%|██████████| 3012638/3012638 [01:21<00:00, 37129.24it/s]\n"
          ]
        }
      ]
    },
    {
      "cell_type": "code",
      "source": [
        "temp.year.unique()"
      ],
      "metadata": {
        "colab": {
          "base_uri": "https://localhost:8080/"
        },
        "id": "FgDAs51HUD4U",
        "outputId": "e5c04b74-c1d1-4687-f764-b6a295a15c6e"
      },
      "execution_count": null,
      "outputs": [
        {
          "output_type": "execute_result",
          "data": {
            "text/plain": [
              "array([2019, 2020, 2021, 2022])"
            ]
          },
          "metadata": {},
          "execution_count": 63
        }
      ]
    },
    {
      "cell_type": "code",
      "source": [
        "temp22 = temp[(temp.year == 2022)]\n",
        "temp22.head()"
      ],
      "metadata": {
        "colab": {
          "base_uri": "https://localhost:8080/",
          "height": 206
        },
        "id": "ANzIo4hRSeGB",
        "outputId": "b587bb55-115d-45ca-e3da-724c372addf3"
      },
      "execution_count": null,
      "outputs": [
        {
          "output_type": "execute_result",
          "data": {
            "text/plain": [
              "                       예정일시  시간대_30분  요일  월  화  수  목  금  토  일       언급량  강수량  \\\n",
              "2671435 2022-01-01 00:05:00        0   5  0  0  0  0  0  1  0  0.006382  0.0   \n",
              "2671436 2022-01-01 00:19:00        0   5  0  0  0  0  0  1  0  0.005516  0.0   \n",
              "2671437 2022-01-01 00:28:00        0   5  0  0  0  0  0  1  0  0.013737  0.0   \n",
              "2671438 2022-01-01 00:28:00        0   5  0  0  0  0  0  1  0  0.013737  0.0   \n",
              "2671439 2022-01-01 01:05:00        2   5  0  0  0  0  0  1  0  0.016225  0.0   \n",
              "\n",
              "         적설량      평균속도     운행차량수  대기시간  year  \n",
              "2671435  0.0  0.935931  0.021053  45.0  2022  \n",
              "2671436  0.0  0.935931  0.021053  35.0  2022  \n",
              "2671437  0.0  0.935931  0.021053  41.0  2022  \n",
              "2671438  0.0  0.935931  0.021053  41.0  2022  \n",
              "2671439  0.0  0.925541  0.021053  84.0  2022  "
            ],
            "text/html": [
              "\n",
              "  <div id=\"df-47ed1a28-0e51-4547-a214-e0828510db6a\">\n",
              "    <div class=\"colab-df-container\">\n",
              "      <div>\n",
              "<style scoped>\n",
              "    .dataframe tbody tr th:only-of-type {\n",
              "        vertical-align: middle;\n",
              "    }\n",
              "\n",
              "    .dataframe tbody tr th {\n",
              "        vertical-align: top;\n",
              "    }\n",
              "\n",
              "    .dataframe thead th {\n",
              "        text-align: right;\n",
              "    }\n",
              "</style>\n",
              "<table border=\"1\" class=\"dataframe\">\n",
              "  <thead>\n",
              "    <tr style=\"text-align: right;\">\n",
              "      <th></th>\n",
              "      <th>예정일시</th>\n",
              "      <th>시간대_30분</th>\n",
              "      <th>요일</th>\n",
              "      <th>월</th>\n",
              "      <th>화</th>\n",
              "      <th>수</th>\n",
              "      <th>목</th>\n",
              "      <th>금</th>\n",
              "      <th>토</th>\n",
              "      <th>일</th>\n",
              "      <th>언급량</th>\n",
              "      <th>강수량</th>\n",
              "      <th>적설량</th>\n",
              "      <th>평균속도</th>\n",
              "      <th>운행차량수</th>\n",
              "      <th>대기시간</th>\n",
              "      <th>year</th>\n",
              "    </tr>\n",
              "  </thead>\n",
              "  <tbody>\n",
              "    <tr>\n",
              "      <th>2671435</th>\n",
              "      <td>2022-01-01 00:05:00</td>\n",
              "      <td>0</td>\n",
              "      <td>5</td>\n",
              "      <td>0</td>\n",
              "      <td>0</td>\n",
              "      <td>0</td>\n",
              "      <td>0</td>\n",
              "      <td>0</td>\n",
              "      <td>1</td>\n",
              "      <td>0</td>\n",
              "      <td>0.006382</td>\n",
              "      <td>0.0</td>\n",
              "      <td>0.0</td>\n",
              "      <td>0.935931</td>\n",
              "      <td>0.021053</td>\n",
              "      <td>45.0</td>\n",
              "      <td>2022</td>\n",
              "    </tr>\n",
              "    <tr>\n",
              "      <th>2671436</th>\n",
              "      <td>2022-01-01 00:19:00</td>\n",
              "      <td>0</td>\n",
              "      <td>5</td>\n",
              "      <td>0</td>\n",
              "      <td>0</td>\n",
              "      <td>0</td>\n",
              "      <td>0</td>\n",
              "      <td>0</td>\n",
              "      <td>1</td>\n",
              "      <td>0</td>\n",
              "      <td>0.005516</td>\n",
              "      <td>0.0</td>\n",
              "      <td>0.0</td>\n",
              "      <td>0.935931</td>\n",
              "      <td>0.021053</td>\n",
              "      <td>35.0</td>\n",
              "      <td>2022</td>\n",
              "    </tr>\n",
              "    <tr>\n",
              "      <th>2671437</th>\n",
              "      <td>2022-01-01 00:28:00</td>\n",
              "      <td>0</td>\n",
              "      <td>5</td>\n",
              "      <td>0</td>\n",
              "      <td>0</td>\n",
              "      <td>0</td>\n",
              "      <td>0</td>\n",
              "      <td>0</td>\n",
              "      <td>1</td>\n",
              "      <td>0</td>\n",
              "      <td>0.013737</td>\n",
              "      <td>0.0</td>\n",
              "      <td>0.0</td>\n",
              "      <td>0.935931</td>\n",
              "      <td>0.021053</td>\n",
              "      <td>41.0</td>\n",
              "      <td>2022</td>\n",
              "    </tr>\n",
              "    <tr>\n",
              "      <th>2671438</th>\n",
              "      <td>2022-01-01 00:28:00</td>\n",
              "      <td>0</td>\n",
              "      <td>5</td>\n",
              "      <td>0</td>\n",
              "      <td>0</td>\n",
              "      <td>0</td>\n",
              "      <td>0</td>\n",
              "      <td>0</td>\n",
              "      <td>1</td>\n",
              "      <td>0</td>\n",
              "      <td>0.013737</td>\n",
              "      <td>0.0</td>\n",
              "      <td>0.0</td>\n",
              "      <td>0.935931</td>\n",
              "      <td>0.021053</td>\n",
              "      <td>41.0</td>\n",
              "      <td>2022</td>\n",
              "    </tr>\n",
              "    <tr>\n",
              "      <th>2671439</th>\n",
              "      <td>2022-01-01 01:05:00</td>\n",
              "      <td>2</td>\n",
              "      <td>5</td>\n",
              "      <td>0</td>\n",
              "      <td>0</td>\n",
              "      <td>0</td>\n",
              "      <td>0</td>\n",
              "      <td>0</td>\n",
              "      <td>1</td>\n",
              "      <td>0</td>\n",
              "      <td>0.016225</td>\n",
              "      <td>0.0</td>\n",
              "      <td>0.0</td>\n",
              "      <td>0.925541</td>\n",
              "      <td>0.021053</td>\n",
              "      <td>84.0</td>\n",
              "      <td>2022</td>\n",
              "    </tr>\n",
              "  </tbody>\n",
              "</table>\n",
              "</div>\n",
              "      <button class=\"colab-df-convert\" onclick=\"convertToInteractive('df-47ed1a28-0e51-4547-a214-e0828510db6a')\"\n",
              "              title=\"Convert this dataframe to an interactive table.\"\n",
              "              style=\"display:none;\">\n",
              "        \n",
              "  <svg xmlns=\"http://www.w3.org/2000/svg\" height=\"24px\"viewBox=\"0 0 24 24\"\n",
              "       width=\"24px\">\n",
              "    <path d=\"M0 0h24v24H0V0z\" fill=\"none\"/>\n",
              "    <path d=\"M18.56 5.44l.94 2.06.94-2.06 2.06-.94-2.06-.94-.94-2.06-.94 2.06-2.06.94zm-11 1L8.5 8.5l.94-2.06 2.06-.94-2.06-.94L8.5 2.5l-.94 2.06-2.06.94zm10 10l.94 2.06.94-2.06 2.06-.94-2.06-.94-.94-2.06-.94 2.06-2.06.94z\"/><path d=\"M17.41 7.96l-1.37-1.37c-.4-.4-.92-.59-1.43-.59-.52 0-1.04.2-1.43.59L10.3 9.45l-7.72 7.72c-.78.78-.78 2.05 0 2.83L4 21.41c.39.39.9.59 1.41.59.51 0 1.02-.2 1.41-.59l7.78-7.78 2.81-2.81c.8-.78.8-2.07 0-2.86zM5.41 20L4 18.59l7.72-7.72 1.47 1.35L5.41 20z\"/>\n",
              "  </svg>\n",
              "      </button>\n",
              "      \n",
              "  <style>\n",
              "    .colab-df-container {\n",
              "      display:flex;\n",
              "      flex-wrap:wrap;\n",
              "      gap: 12px;\n",
              "    }\n",
              "\n",
              "    .colab-df-convert {\n",
              "      background-color: #E8F0FE;\n",
              "      border: none;\n",
              "      border-radius: 50%;\n",
              "      cursor: pointer;\n",
              "      display: none;\n",
              "      fill: #1967D2;\n",
              "      height: 32px;\n",
              "      padding: 0 0 0 0;\n",
              "      width: 32px;\n",
              "    }\n",
              "\n",
              "    .colab-df-convert:hover {\n",
              "      background-color: #E2EBFA;\n",
              "      box-shadow: 0px 1px 2px rgba(60, 64, 67, 0.3), 0px 1px 3px 1px rgba(60, 64, 67, 0.15);\n",
              "      fill: #174EA6;\n",
              "    }\n",
              "\n",
              "    [theme=dark] .colab-df-convert {\n",
              "      background-color: #3B4455;\n",
              "      fill: #D2E3FC;\n",
              "    }\n",
              "\n",
              "    [theme=dark] .colab-df-convert:hover {\n",
              "      background-color: #434B5C;\n",
              "      box-shadow: 0px 1px 3px 1px rgba(0, 0, 0, 0.15);\n",
              "      filter: drop-shadow(0px 1px 2px rgba(0, 0, 0, 0.3));\n",
              "      fill: #FFFFFF;\n",
              "    }\n",
              "  </style>\n",
              "\n",
              "      <script>\n",
              "        const buttonEl =\n",
              "          document.querySelector('#df-47ed1a28-0e51-4547-a214-e0828510db6a button.colab-df-convert');\n",
              "        buttonEl.style.display =\n",
              "          google.colab.kernel.accessAllowed ? 'block' : 'none';\n",
              "\n",
              "        async function convertToInteractive(key) {\n",
              "          const element = document.querySelector('#df-47ed1a28-0e51-4547-a214-e0828510db6a');\n",
              "          const dataTable =\n",
              "            await google.colab.kernel.invokeFunction('convertToInteractive',\n",
              "                                                     [key], {});\n",
              "          if (!dataTable) return;\n",
              "\n",
              "          const docLinkHtml = 'Like what you see? Visit the ' +\n",
              "            '<a target=\"_blank\" href=https://colab.research.google.com/notebooks/data_table.ipynb>data table notebook</a>'\n",
              "            + ' to learn more about interactive tables.';\n",
              "          element.innerHTML = '';\n",
              "          dataTable['output_type'] = 'display_data';\n",
              "          await google.colab.output.renderOutput(dataTable, element);\n",
              "          const docLink = document.createElement('div');\n",
              "          docLink.innerHTML = docLinkHtml;\n",
              "          element.appendChild(docLink);\n",
              "        }\n",
              "      </script>\n",
              "    </div>\n",
              "  </div>\n",
              "  "
            ]
          },
          "metadata": {},
          "execution_count": 65
        }
      ]
    },
    {
      "cell_type": "code",
      "source": [
        "from sklearn.linear_model import LinearRegression\n",
        "from sklearn.model_selection import train_test_split\n",
        "from sklearn.metrics import r2_score, mean_squared_error\n",
        "from statsmodels.formula.api import ols\n",
        "import statsmodels.api as sm"
      ],
      "metadata": {
        "id": "zCvILgifMFUs"
      },
      "execution_count": null,
      "outputs": []
    },
    {
      "cell_type": "code",
      "source": [
        "temp22.columns"
      ],
      "metadata": {
        "colab": {
          "base_uri": "https://localhost:8080/"
        },
        "id": "PibYnWafTqpz",
        "outputId": "06e95435-4a51-4730-9800-ddf8b5d88910"
      },
      "execution_count": null,
      "outputs": [
        {
          "output_type": "execute_result",
          "data": {
            "text/plain": [
              "Index(['예정일시', '시간대_30분', '요일', '월', '화', '수', '목', '금', '토', '일', '언급량',\n",
              "       '강수량', '적설량', '평균속도', '운행차량수', '대기시간', 'year'],\n",
              "      dtype='object')"
            ]
          },
          "metadata": {},
          "execution_count": 66
        }
      ]
    },
    {
      "cell_type": "code",
      "source": [
        "X = np.array(temp22[['시간대_30분', '요일', '월', '화', '수', '목',\n",
        "       '금', '토', '일','언급량', '강수량', '적설량', '평균속도', '운행차량수']])\n",
        "y = np.array(temp22['대기시간'])\n",
        "\n",
        "X_train, X_test, y_train, y_test = train_test_split(\n",
        "    X, y,test_size= 0.1, random_state=2022\n",
        ")"
      ],
      "metadata": {
        "id": "uBfSoVK7TF15"
      },
      "execution_count": null,
      "outputs": []
    },
    {
      "cell_type": "code",
      "source": [
        "lr = LinearRegression()\n",
        "lr.fit(X_train, y_train)"
      ],
      "metadata": {
        "colab": {
          "base_uri": "https://localhost:8080/"
        },
        "id": "A-sJGxnSTiQB",
        "outputId": "a28a6c51-5923-4ca1-f2bd-71a9d792c600"
      },
      "execution_count": null,
      "outputs": [
        {
          "output_type": "execute_result",
          "data": {
            "text/plain": [
              "LinearRegression()"
            ]
          },
          "metadata": {},
          "execution_count": 68
        }
      ]
    },
    {
      "cell_type": "code",
      "source": [
        "r2_score(y_test,lr.predict(X_test)) "
      ],
      "metadata": {
        "colab": {
          "base_uri": "https://localhost:8080/"
        },
        "id": "KNV5CDFzU2zO",
        "outputId": "965765fa-81ae-4a44-b9eb-8d22e26e45df"
      },
      "execution_count": null,
      "outputs": [
        {
          "output_type": "execute_result",
          "data": {
            "text/plain": [
              "0.09269474803200772"
            ]
          },
          "metadata": {},
          "execution_count": 69
        }
      ]
    },
    {
      "cell_type": "code",
      "source": [
        "xgr = XGBRegressor()\n",
        "xgr.fit(X_train, y_train)\n",
        "pred_xgr = xgr.predict(X_test)\n",
        "r2_xgr= r2_score(y_test, pred_xgr)\n",
        "mse_xgr = mean_squared_error(y_test, pred_xgr)\n",
        "\n",
        "r2_xgr, mse_xgr"
      ],
      "metadata": {
        "colab": {
          "base_uri": "https://localhost:8080/"
        },
        "id": "mzrdma-PV4tY",
        "outputId": "5025e9ac-4108-42ad-afb9-8fc635a5bfdf"
      },
      "execution_count": null,
      "outputs": [
        {
          "output_type": "stream",
          "name": "stdout",
          "text": [
            "[05:29:31] WARNING: /workspace/src/objective/regression_obj.cu:152: reg:linear is now deprecated in favor of reg:squarederror.\n"
          ]
        },
        {
          "output_type": "execute_result",
          "data": {
            "text/plain": [
              "(0.25577185918050593, 261.62742617579914)"
            ]
          },
          "metadata": {},
          "execution_count": 78
        }
      ]
    }
  ]
}