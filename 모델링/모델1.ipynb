{
  "nbformat": 4,
  "nbformat_minor": 0,
  "metadata": {
    "colab": {
      "name": "모델1.ipynb",
      "provenance": [],
      "collapsed_sections": []
    },
    "kernelspec": {
      "name": "python3",
      "display_name": "Python 3"
    },
    "language_info": {
      "name": "python"
    }
  },
  "cells": [
    {
      "cell_type": "code",
      "source": [
        "!sudo apt-get install -y fonts-nanum\n",
        "!sudo fc-cache -fv\n",
        "!rm ~/.cache/matplotlib -rf"
      ],
      "metadata": {
        "id": "1nRdNnlZ8To2"
      },
      "execution_count": null,
      "outputs": []
    },
    {
      "cell_type": "code",
      "source": [
        "import os\n",
        "import json\n",
        "import datetime\n",
        "import numpy as np\n",
        "import pandas as pd\n",
        "import seaborn as sns\n",
        "from tqdm import tqdm\n",
        "import warnings\n",
        "warnings.filterwarnings('ignore')\n",
        "import matplotlib.pyplot as plt\n",
        "plt.rc('font', family='NanumBarunGothic') "
      ],
      "metadata": {
        "id": "0TfEtmFb8rk_"
      },
      "execution_count": 1,
      "outputs": []
    },
    {
      "cell_type": "code",
      "source": [
        "from google.colab import drive\n",
        "drive.mount('/content/drive')"
      ],
      "metadata": {
        "colab": {
          "base_uri": "https://localhost:8080/"
        },
        "id": "WrjwM64X8riQ",
        "outputId": "3a5657e4-4ac8-43d1-f128-419803985351"
      },
      "execution_count": 2,
      "outputs": [
        {
          "output_type": "stream",
          "name": "stdout",
          "text": [
            "Mounted at /content/drive\n"
          ]
        }
      ]
    },
    {
      "cell_type": "markdown",
      "source": [
        "### 1. 데이터 불러오고 전처리"
      ],
      "metadata": {
        "id": "yP0z8ck08OoC"
      }
    },
    {
      "cell_type": "code",
      "execution_count": 49,
      "metadata": {
        "colab": {
          "base_uri": "https://localhost:8080/",
          "height": 163
        },
        "id": "F63vGAhn4QMJ",
        "outputId": "30368b32-c85d-41e3-cc2e-bd3648b906bc"
      },
      "outputs": [
        {
          "output_type": "stream",
          "name": "stdout",
          "text": [
            "/content/drive/.shortcut-targets-by-id/1Mz49-WiynxJxHmmXYuWSqduV3-jd-BC7/멀티캠퍼스 5조/2.데이터\n"
          ]
        },
        {
          "output_type": "execute_result",
          "data": {
            "text/plain": [
              "     년도   차량보유  일평균_접수인원  일평균_탑승인원   탑승률  대당 _일평균_운행횟수      장애인구  평균_대기시간(분)  \\\n",
              "0  2010  300.0    2183.0    1925.0  88.2           8.5  414522.0        38.0   \n",
              "1  2011  300.0    2350.0    2083.0  88.6           8.9  411570.0        31.0   \n",
              "2  2012  360.0    2525.0    2234.0  88.5           8.9  407528.0        30.0   \n",
              "\n",
              "   30분_이내_탑승률  \n",
              "0        52.3  \n",
              "1        64.5  \n",
              "2        65.3  "
            ],
            "text/html": [
              "\n",
              "  <div id=\"df-565a261d-ca81-4493-8418-b9fbc585c2b9\">\n",
              "    <div class=\"colab-df-container\">\n",
              "      <div>\n",
              "<style scoped>\n",
              "    .dataframe tbody tr th:only-of-type {\n",
              "        vertical-align: middle;\n",
              "    }\n",
              "\n",
              "    .dataframe tbody tr th {\n",
              "        vertical-align: top;\n",
              "    }\n",
              "\n",
              "    .dataframe thead th {\n",
              "        text-align: right;\n",
              "    }\n",
              "</style>\n",
              "<table border=\"1\" class=\"dataframe\">\n",
              "  <thead>\n",
              "    <tr style=\"text-align: right;\">\n",
              "      <th></th>\n",
              "      <th>년도</th>\n",
              "      <th>차량보유</th>\n",
              "      <th>일평균_접수인원</th>\n",
              "      <th>일평균_탑승인원</th>\n",
              "      <th>탑승률</th>\n",
              "      <th>대당 _일평균_운행횟수</th>\n",
              "      <th>장애인구</th>\n",
              "      <th>평균_대기시간(분)</th>\n",
              "      <th>30분_이내_탑승률</th>\n",
              "    </tr>\n",
              "  </thead>\n",
              "  <tbody>\n",
              "    <tr>\n",
              "      <th>0</th>\n",
              "      <td>2010</td>\n",
              "      <td>300.0</td>\n",
              "      <td>2183.0</td>\n",
              "      <td>1925.0</td>\n",
              "      <td>88.2</td>\n",
              "      <td>8.5</td>\n",
              "      <td>414522.0</td>\n",
              "      <td>38.0</td>\n",
              "      <td>52.3</td>\n",
              "    </tr>\n",
              "    <tr>\n",
              "      <th>1</th>\n",
              "      <td>2011</td>\n",
              "      <td>300.0</td>\n",
              "      <td>2350.0</td>\n",
              "      <td>2083.0</td>\n",
              "      <td>88.6</td>\n",
              "      <td>8.9</td>\n",
              "      <td>411570.0</td>\n",
              "      <td>31.0</td>\n",
              "      <td>64.5</td>\n",
              "    </tr>\n",
              "    <tr>\n",
              "      <th>2</th>\n",
              "      <td>2012</td>\n",
              "      <td>360.0</td>\n",
              "      <td>2525.0</td>\n",
              "      <td>2234.0</td>\n",
              "      <td>88.5</td>\n",
              "      <td>8.9</td>\n",
              "      <td>407528.0</td>\n",
              "      <td>30.0</td>\n",
              "      <td>65.3</td>\n",
              "    </tr>\n",
              "  </tbody>\n",
              "</table>\n",
              "</div>\n",
              "      <button class=\"colab-df-convert\" onclick=\"convertToInteractive('df-565a261d-ca81-4493-8418-b9fbc585c2b9')\"\n",
              "              title=\"Convert this dataframe to an interactive table.\"\n",
              "              style=\"display:none;\">\n",
              "        \n",
              "  <svg xmlns=\"http://www.w3.org/2000/svg\" height=\"24px\"viewBox=\"0 0 24 24\"\n",
              "       width=\"24px\">\n",
              "    <path d=\"M0 0h24v24H0V0z\" fill=\"none\"/>\n",
              "    <path d=\"M18.56 5.44l.94 2.06.94-2.06 2.06-.94-2.06-.94-.94-2.06-.94 2.06-2.06.94zm-11 1L8.5 8.5l.94-2.06 2.06-.94-2.06-.94L8.5 2.5l-.94 2.06-2.06.94zm10 10l.94 2.06.94-2.06 2.06-.94-2.06-.94-.94-2.06-.94 2.06-2.06.94z\"/><path d=\"M17.41 7.96l-1.37-1.37c-.4-.4-.92-.59-1.43-.59-.52 0-1.04.2-1.43.59L10.3 9.45l-7.72 7.72c-.78.78-.78 2.05 0 2.83L4 21.41c.39.39.9.59 1.41.59.51 0 1.02-.2 1.41-.59l7.78-7.78 2.81-2.81c.8-.78.8-2.07 0-2.86zM5.41 20L4 18.59l7.72-7.72 1.47 1.35L5.41 20z\"/>\n",
              "  </svg>\n",
              "      </button>\n",
              "      \n",
              "  <style>\n",
              "    .colab-df-container {\n",
              "      display:flex;\n",
              "      flex-wrap:wrap;\n",
              "      gap: 12px;\n",
              "    }\n",
              "\n",
              "    .colab-df-convert {\n",
              "      background-color: #E8F0FE;\n",
              "      border: none;\n",
              "      border-radius: 50%;\n",
              "      cursor: pointer;\n",
              "      display: none;\n",
              "      fill: #1967D2;\n",
              "      height: 32px;\n",
              "      padding: 0 0 0 0;\n",
              "      width: 32px;\n",
              "    }\n",
              "\n",
              "    .colab-df-convert:hover {\n",
              "      background-color: #E2EBFA;\n",
              "      box-shadow: 0px 1px 2px rgba(60, 64, 67, 0.3), 0px 1px 3px 1px rgba(60, 64, 67, 0.15);\n",
              "      fill: #174EA6;\n",
              "    }\n",
              "\n",
              "    [theme=dark] .colab-df-convert {\n",
              "      background-color: #3B4455;\n",
              "      fill: #D2E3FC;\n",
              "    }\n",
              "\n",
              "    [theme=dark] .colab-df-convert:hover {\n",
              "      background-color: #434B5C;\n",
              "      box-shadow: 0px 1px 3px 1px rgba(0, 0, 0, 0.15);\n",
              "      filter: drop-shadow(0px 1px 2px rgba(0, 0, 0, 0.3));\n",
              "      fill: #FFFFFF;\n",
              "    }\n",
              "  </style>\n",
              "\n",
              "      <script>\n",
              "        const buttonEl =\n",
              "          document.querySelector('#df-565a261d-ca81-4493-8418-b9fbc585c2b9 button.colab-df-convert');\n",
              "        buttonEl.style.display =\n",
              "          google.colab.kernel.accessAllowed ? 'block' : 'none';\n",
              "\n",
              "        async function convertToInteractive(key) {\n",
              "          const element = document.querySelector('#df-565a261d-ca81-4493-8418-b9fbc585c2b9');\n",
              "          const dataTable =\n",
              "            await google.colab.kernel.invokeFunction('convertToInteractive',\n",
              "                                                     [key], {});\n",
              "          if (!dataTable) return;\n",
              "\n",
              "          const docLinkHtml = 'Like what you see? Visit the ' +\n",
              "            '<a target=\"_blank\" href=https://colab.research.google.com/notebooks/data_table.ipynb>data table notebook</a>'\n",
              "            + ' to learn more about interactive tables.';\n",
              "          element.innerHTML = '';\n",
              "          dataTable['output_type'] = 'display_data';\n",
              "          await google.colab.output.renderOutput(dataTable, element);\n",
              "          const docLink = document.createElement('div');\n",
              "          docLink.innerHTML = docLinkHtml;\n",
              "          element.appendChild(docLink);\n",
              "        }\n",
              "      </script>\n",
              "    </div>\n",
              "  </div>\n",
              "  "
            ]
          },
          "metadata": {},
          "execution_count": 49
        }
      ],
      "source": [
        "%cd /content/drive/MyDrive/'멀티캠퍼스 5조'/2.데이터\n",
        "\n",
        "df = pd.read_excel('2010-2022 콜택시 운영 상황 변화.xlsx')\n",
        "df.head(3)"
      ]
    },
    {
      "cell_type": "code",
      "source": [
        "df.info()"
      ],
      "metadata": {
        "colab": {
          "base_uri": "https://localhost:8080/"
        },
        "id": "TiVfm7_B-2Vo",
        "outputId": "d441e156-ed81-4f9b-f596-140839ccc6c2"
      },
      "execution_count": 50,
      "outputs": [
        {
          "output_type": "stream",
          "name": "stdout",
          "text": [
            "<class 'pandas.core.frame.DataFrame'>\n",
            "RangeIndex: 13 entries, 0 to 12\n",
            "Data columns (total 9 columns):\n",
            " #   Column        Non-Null Count  Dtype  \n",
            "---  ------        --------------  -----  \n",
            " 0   년도            13 non-null     int64  \n",
            " 1   차량보유          13 non-null     float64\n",
            " 2   일평균_접수인원      13 non-null     float64\n",
            " 3   일평균_탑승인원      13 non-null     float64\n",
            " 4   탑승률           13 non-null     float64\n",
            " 5   대당 _일평균_운행횟수  13 non-null     float64\n",
            " 6   장애인구          13 non-null     float64\n",
            " 7   평균_대기시간(분)    13 non-null     float64\n",
            " 8   30분_이내_탑승률    13 non-null     float64\n",
            "dtypes: float64(8), int64(1)\n",
            "memory usage: 1.0 KB\n"
          ]
        }
      ]
    },
    {
      "cell_type": "markdown",
      "source": [
        "### 2. 탐색적 분석(EDA)\n",
        "- 2.기초통계량추출\n",
        "- 3.선그래프\n",
        "- 5.상관관계 분석(피어슨 상관계수) 산점도행렬?\n",
        "\n",
        "- 1. 잔차해석 : 회귀적합 이후 가능"
      ],
      "metadata": {
        "id": "tuqaZIQp9zFZ"
      }
    },
    {
      "cell_type": "markdown",
      "source": [
        "#### 기초통계량 추출"
      ],
      "metadata": {
        "id": "IAv1NM3ADIIM"
      }
    },
    {
      "cell_type": "code",
      "source": [
        "df.describe()"
      ],
      "metadata": {
        "colab": {
          "base_uri": "https://localhost:8080/",
          "height": 300
        },
        "id": "S9_plzbD9opZ",
        "outputId": "73d5ec30-78f4-4ee6-88d3-dfbc7d46e596"
      },
      "execution_count": 74,
      "outputs": [
        {
          "output_type": "execute_result",
          "data": {
            "text/plain": [
              "               년도        차량보유     일평균 접수인원     일평균 탑승인원        탑승률  \\\n",
              "count    13.00000   13.000000    13.000000    13.000000  13.000000   \n",
              "mean   2016.00000  449.461538  3359.307692  2878.153846  86.138462   \n",
              "std       3.89444  111.729297   706.153121   540.220764   3.869224   \n",
              "min    2010.00000  300.000000  2183.000000  1925.000000  78.700000   \n",
              "25%    2013.00000  410.000000  2855.000000  2567.000000  84.700000   \n",
              "50%    2016.00000  437.000000  3673.000000  3209.000000  87.400000   \n",
              "75%    2019.00000  437.000000  4005.000000  3276.000000  88.500000   \n",
              "max    2022.00000  634.000000  4185.000000  3484.000000  90.600000   \n",
              "\n",
              "       대당 일평균 운행횟수           장애인구  평균 대기시간(분)  30분 이내 탑승률  \n",
              "count    13.000000      13.000000   13.000000   13.000000  \n",
              "mean      8.661538  398393.769231   36.423077   55.415385  \n",
              "std       1.139838    8143.908605   10.156784   14.136763  \n",
              "min       6.400000  391027.000000   26.000000   28.400000  \n",
              "25%       8.500000  392920.000000   30.000000   50.900000  \n",
              "50%       8.900000  394190.000000   32.000000   60.700000  \n",
              "75%       9.400000  403435.000000   38.000000   65.100000  \n",
              "max       9.900000  414522.000000   58.000000   71.300000  "
            ],
            "text/html": [
              "\n",
              "  <div id=\"df-ad35a734-8ea2-47c3-b3e9-9a160c891b99\">\n",
              "    <div class=\"colab-df-container\">\n",
              "      <div>\n",
              "<style scoped>\n",
              "    .dataframe tbody tr th:only-of-type {\n",
              "        vertical-align: middle;\n",
              "    }\n",
              "\n",
              "    .dataframe tbody tr th {\n",
              "        vertical-align: top;\n",
              "    }\n",
              "\n",
              "    .dataframe thead th {\n",
              "        text-align: right;\n",
              "    }\n",
              "</style>\n",
              "<table border=\"1\" class=\"dataframe\">\n",
              "  <thead>\n",
              "    <tr style=\"text-align: right;\">\n",
              "      <th></th>\n",
              "      <th>년도</th>\n",
              "      <th>차량보유</th>\n",
              "      <th>일평균 접수인원</th>\n",
              "      <th>일평균 탑승인원</th>\n",
              "      <th>탑승률</th>\n",
              "      <th>대당 일평균 운행횟수</th>\n",
              "      <th>장애인구</th>\n",
              "      <th>평균 대기시간(분)</th>\n",
              "      <th>30분 이내 탑승률</th>\n",
              "    </tr>\n",
              "  </thead>\n",
              "  <tbody>\n",
              "    <tr>\n",
              "      <th>count</th>\n",
              "      <td>13.00000</td>\n",
              "      <td>13.000000</td>\n",
              "      <td>13.000000</td>\n",
              "      <td>13.000000</td>\n",
              "      <td>13.000000</td>\n",
              "      <td>13.000000</td>\n",
              "      <td>13.000000</td>\n",
              "      <td>13.000000</td>\n",
              "      <td>13.000000</td>\n",
              "    </tr>\n",
              "    <tr>\n",
              "      <th>mean</th>\n",
              "      <td>2016.00000</td>\n",
              "      <td>449.461538</td>\n",
              "      <td>3359.307692</td>\n",
              "      <td>2878.153846</td>\n",
              "      <td>86.138462</td>\n",
              "      <td>8.661538</td>\n",
              "      <td>398393.769231</td>\n",
              "      <td>36.423077</td>\n",
              "      <td>55.415385</td>\n",
              "    </tr>\n",
              "    <tr>\n",
              "      <th>std</th>\n",
              "      <td>3.89444</td>\n",
              "      <td>111.729297</td>\n",
              "      <td>706.153121</td>\n",
              "      <td>540.220764</td>\n",
              "      <td>3.869224</td>\n",
              "      <td>1.139838</td>\n",
              "      <td>8143.908605</td>\n",
              "      <td>10.156784</td>\n",
              "      <td>14.136763</td>\n",
              "    </tr>\n",
              "    <tr>\n",
              "      <th>min</th>\n",
              "      <td>2010.00000</td>\n",
              "      <td>300.000000</td>\n",
              "      <td>2183.000000</td>\n",
              "      <td>1925.000000</td>\n",
              "      <td>78.700000</td>\n",
              "      <td>6.400000</td>\n",
              "      <td>391027.000000</td>\n",
              "      <td>26.000000</td>\n",
              "      <td>28.400000</td>\n",
              "    </tr>\n",
              "    <tr>\n",
              "      <th>25%</th>\n",
              "      <td>2013.00000</td>\n",
              "      <td>410.000000</td>\n",
              "      <td>2855.000000</td>\n",
              "      <td>2567.000000</td>\n",
              "      <td>84.700000</td>\n",
              "      <td>8.500000</td>\n",
              "      <td>392920.000000</td>\n",
              "      <td>30.000000</td>\n",
              "      <td>50.900000</td>\n",
              "    </tr>\n",
              "    <tr>\n",
              "      <th>50%</th>\n",
              "      <td>2016.00000</td>\n",
              "      <td>437.000000</td>\n",
              "      <td>3673.000000</td>\n",
              "      <td>3209.000000</td>\n",
              "      <td>87.400000</td>\n",
              "      <td>8.900000</td>\n",
              "      <td>394190.000000</td>\n",
              "      <td>32.000000</td>\n",
              "      <td>60.700000</td>\n",
              "    </tr>\n",
              "    <tr>\n",
              "      <th>75%</th>\n",
              "      <td>2019.00000</td>\n",
              "      <td>437.000000</td>\n",
              "      <td>4005.000000</td>\n",
              "      <td>3276.000000</td>\n",
              "      <td>88.500000</td>\n",
              "      <td>9.400000</td>\n",
              "      <td>403435.000000</td>\n",
              "      <td>38.000000</td>\n",
              "      <td>65.100000</td>\n",
              "    </tr>\n",
              "    <tr>\n",
              "      <th>max</th>\n",
              "      <td>2022.00000</td>\n",
              "      <td>634.000000</td>\n",
              "      <td>4185.000000</td>\n",
              "      <td>3484.000000</td>\n",
              "      <td>90.600000</td>\n",
              "      <td>9.900000</td>\n",
              "      <td>414522.000000</td>\n",
              "      <td>58.000000</td>\n",
              "      <td>71.300000</td>\n",
              "    </tr>\n",
              "  </tbody>\n",
              "</table>\n",
              "</div>\n",
              "      <button class=\"colab-df-convert\" onclick=\"convertToInteractive('df-ad35a734-8ea2-47c3-b3e9-9a160c891b99')\"\n",
              "              title=\"Convert this dataframe to an interactive table.\"\n",
              "              style=\"display:none;\">\n",
              "        \n",
              "  <svg xmlns=\"http://www.w3.org/2000/svg\" height=\"24px\"viewBox=\"0 0 24 24\"\n",
              "       width=\"24px\">\n",
              "    <path d=\"M0 0h24v24H0V0z\" fill=\"none\"/>\n",
              "    <path d=\"M18.56 5.44l.94 2.06.94-2.06 2.06-.94-2.06-.94-.94-2.06-.94 2.06-2.06.94zm-11 1L8.5 8.5l.94-2.06 2.06-.94-2.06-.94L8.5 2.5l-.94 2.06-2.06.94zm10 10l.94 2.06.94-2.06 2.06-.94-2.06-.94-.94-2.06-.94 2.06-2.06.94z\"/><path d=\"M17.41 7.96l-1.37-1.37c-.4-.4-.92-.59-1.43-.59-.52 0-1.04.2-1.43.59L10.3 9.45l-7.72 7.72c-.78.78-.78 2.05 0 2.83L4 21.41c.39.39.9.59 1.41.59.51 0 1.02-.2 1.41-.59l7.78-7.78 2.81-2.81c.8-.78.8-2.07 0-2.86zM5.41 20L4 18.59l7.72-7.72 1.47 1.35L5.41 20z\"/>\n",
              "  </svg>\n",
              "      </button>\n",
              "      \n",
              "  <style>\n",
              "    .colab-df-container {\n",
              "      display:flex;\n",
              "      flex-wrap:wrap;\n",
              "      gap: 12px;\n",
              "    }\n",
              "\n",
              "    .colab-df-convert {\n",
              "      background-color: #E8F0FE;\n",
              "      border: none;\n",
              "      border-radius: 50%;\n",
              "      cursor: pointer;\n",
              "      display: none;\n",
              "      fill: #1967D2;\n",
              "      height: 32px;\n",
              "      padding: 0 0 0 0;\n",
              "      width: 32px;\n",
              "    }\n",
              "\n",
              "    .colab-df-convert:hover {\n",
              "      background-color: #E2EBFA;\n",
              "      box-shadow: 0px 1px 2px rgba(60, 64, 67, 0.3), 0px 1px 3px 1px rgba(60, 64, 67, 0.15);\n",
              "      fill: #174EA6;\n",
              "    }\n",
              "\n",
              "    [theme=dark] .colab-df-convert {\n",
              "      background-color: #3B4455;\n",
              "      fill: #D2E3FC;\n",
              "    }\n",
              "\n",
              "    [theme=dark] .colab-df-convert:hover {\n",
              "      background-color: #434B5C;\n",
              "      box-shadow: 0px 1px 3px 1px rgba(0, 0, 0, 0.15);\n",
              "      filter: drop-shadow(0px 1px 2px rgba(0, 0, 0, 0.3));\n",
              "      fill: #FFFFFF;\n",
              "    }\n",
              "  </style>\n",
              "\n",
              "      <script>\n",
              "        const buttonEl =\n",
              "          document.querySelector('#df-ad35a734-8ea2-47c3-b3e9-9a160c891b99 button.colab-df-convert');\n",
              "        buttonEl.style.display =\n",
              "          google.colab.kernel.accessAllowed ? 'block' : 'none';\n",
              "\n",
              "        async function convertToInteractive(key) {\n",
              "          const element = document.querySelector('#df-ad35a734-8ea2-47c3-b3e9-9a160c891b99');\n",
              "          const dataTable =\n",
              "            await google.colab.kernel.invokeFunction('convertToInteractive',\n",
              "                                                     [key], {});\n",
              "          if (!dataTable) return;\n",
              "\n",
              "          const docLinkHtml = 'Like what you see? Visit the ' +\n",
              "            '<a target=\"_blank\" href=https://colab.research.google.com/notebooks/data_table.ipynb>data table notebook</a>'\n",
              "            + ' to learn more about interactive tables.';\n",
              "          element.innerHTML = '';\n",
              "          dataTable['output_type'] = 'display_data';\n",
              "          await google.colab.output.renderOutput(dataTable, element);\n",
              "          const docLink = document.createElement('div');\n",
              "          docLink.innerHTML = docLinkHtml;\n",
              "          element.appendChild(docLink);\n",
              "        }\n",
              "      </script>\n",
              "    </div>\n",
              "  </div>\n",
              "  "
            ]
          },
          "metadata": {},
          "execution_count": 74
        }
      ]
    },
    {
      "cell_type": "markdown",
      "source": [
        "#### Histogram"
      ],
      "metadata": {
        "id": "KFyifB-_EsZJ"
      }
    },
    {
      "cell_type": "code",
      "source": [
        "from matplotlib import markers\n",
        "# 년도별 차량보유 그래프와 평균 대기시간, 30분내 탑승률 선 그래프 겹쳐서 그리기, 마커 0 넣기\n",
        "# 다중플롯\n",
        "# 다중 플롯을 지정 : ax1은 y1에 대한 그래프\n",
        "fig, ax1 = plt.subplots()\n",
        "fig.set_size_inches((7,5))\n",
        "ax1.plot('년도', '차량보유','-8', data = df, color = 'skyblue', linewidth = 4, label = '차량대수')\n",
        "ax1.set_xlabel('년도', fontsize = 15)\n",
        "ax1.set_ylabel('보유한 차량 수', fontsize = 12)\n",
        "\n",
        "# ax2는 y2에 대한 그래프, twinx로 x축을 공유\n",
        "ax2 = ax1.twinx()\n",
        "ax2.plot('년도', '평균_대기시간(분)','-8', data = df, color = 'gold', linewidth = 4, label = '대기시간')\n",
        "ax2.set_ylabel('평균_대기시간(분)', fontsize = 12, fontdict = {'rotation':90})\n",
        "\n",
        "plt.title('차량수-대기시간 비교 그래프', fontsize = 18)\n",
        "plt.grid(linestyle = ':')\n",
        "plt.savefig('차량수-대기시간 비교 그래프.png',  bbox_inches='tight')\n",
        "plt.show()"
      ],
      "metadata": {
        "colab": {
          "base_uri": "https://localhost:8080/",
          "height": 361
        },
        "id": "T6VrY0xPErwt",
        "outputId": "8193695b-d7bb-4de4-fb85-95252c959f55"
      },
      "execution_count": 63,
      "outputs": [
        {
          "output_type": "display_data",
          "data": {
            "text/plain": [
              "<Figure size 504x360 with 2 Axes>"
            ],
            "image/png": "[encoded data removed]"
          },
          "metadata": {
            "needs_background": "light"
          }
        }
      ]
    },
    {
      "cell_type": "code",
      "source": [
        "plt.figure(figsize = (10, 5))\n",
        "\n",
        "fig, ax1 = plt.subplots()\n",
        "fig.set_size_inches((7,5))\n",
        "ax1.plot('년도', '차량보유','-8', data = df, color = 'skyblue', linewidth = 4, label = '차량대수')\n",
        "ax1.set_xlabel('년도', fontsize = 15)\n",
        "ax1.set_ylabel('보유한 차량 수', fontsize = 12)\n",
        "\n",
        "ax2 = ax1.twinx()\n",
        "ax2.plot('년도', '30분_이내)탑승률','-8', data = df, color = 'gold', linewidth = 4, label = '대기시간')\n",
        "ax2.set_ylabel('30분_이내)탑승률', fontsize = 12, fontdict = {'rotation':90})\n",
        "\n",
        "plt.title('차량수-탑승률 비교 그래프', fontsize = 18)\n",
        "plt.grid(linestyle = ':')\n",
        "plt.savefig('차량수-탑승률 비교 그래프.png',  bbox_inches='tight')\n",
        "plt.show()"
      ],
      "metadata": {
        "colab": {
          "base_uri": "https://localhost:8080/",
          "height": 381
        },
        "id": "21JgHIRxMAl0",
        "outputId": "cb44fa90-c5b2-48f1-ab93-b491b8e948f3"
      },
      "execution_count": 64,
      "outputs": [
        {
          "output_type": "display_data",
          "data": {
            "text/plain": [
              "<Figure size 720x360 with 0 Axes>"
            ]
          },
          "metadata": {}
        },
        {
          "output_type": "display_data",
          "data": {
            "text/plain": [
              "<Figure size 504x360 with 2 Axes>"
            ],
            "image/png": "[encoded data removed]"
          },
          "metadata": {
            "needs_background": "light"
          }
        }
      ]
    },
    {
      "cell_type": "markdown",
      "source": [
        "#### 산점도행렬"
      ],
      "metadata": {
        "id": "Pp0EVT1TXDKC"
      }
    },
    {
      "cell_type": "code",
      "source": [
        "_, ax = plt.subplots(2, 3, figsize = (15, 10))\n",
        "for i, feature in enumerate(df.columns[1:-2]):\n",
        "    row, col = i//3, i%3\n",
        "    sns.regplot(x = feature, y = '평균_대기시간(분)', data = df, ax = ax[row, col]);\n",
        "plt.savefig('모델1 산점도행렬.png', bbox_inches='tight')"
      ],
      "metadata": {
        "colab": {
          "base_uri": "https://localhost:8080/",
          "height": 608
        },
        "id": "ZFQxlec8XET1",
        "outputId": "1eaba08b-55f9-46b6-b4fa-784d9eaaad70"
      },
      "execution_count": 4,
      "outputs": [
        {
          "output_type": "display_data",
          "data": {
            "text/plain": [
              "<Figure size 1080x720 with 6 Axes>"
            ],
            "image/png": "[encoded data removed]"
          },
          "metadata": {
            "needs_background": "light"
          }
        }
      ]
    },
    {
      "cell_type": "code",
      "source": [
        "df.columns"
      ],
      "metadata": {
        "colab": {
          "base_uri": "https://localhost:8080/"
        },
        "id": "QUeIAmxDjFn3",
        "outputId": "3a3a4544-e6f7-45cd-8263-5269efff5bda"
      },
      "execution_count": 80,
      "outputs": [
        {
          "output_type": "execute_result",
          "data": {
            "text/plain": [
              "Index(['년도', '차량보유', '일평균 접수인원', '일평균 탑승인원', '탑승률', '대당 일평균 운행횟수', '장애인구',\n",
              "       '평균 대기시간(분)', '30분 이내 탑승률'],\n",
              "      dtype='object')"
            ]
          },
          "metadata": {},
          "execution_count": 80
        }
      ]
    },
    {
      "cell_type": "code",
      "source": [
        "# 상관계수 출력\n",
        "df_cor = df[['차량보유', '일평균_접수인원', '일평균_탑승인원', '대당_일평균 운행횟수', '장애인구',\n",
        "       '평균_대기시간(분)']].corr().drop(['평균_대기시간(분)'])[['평균_대기시간(분)']].abs()\n",
        "df_cor[df_cor['평균_대기시간(분)'] > 0.3]"
      ],
      "metadata": {
        "colab": {
          "base_uri": "https://localhost:8080/",
          "height": 175
        },
        "id": "wWrawxwxZ61y",
        "outputId": "6f1f57be-df30-45fc-e1a6-d38064c70e6b"
      },
      "execution_count": 95,
      "outputs": [
        {
          "output_type": "execute_result",
          "data": {
            "text/plain": [
              "             평균 대기시간(분)\n",
              "일평균 접수인원       0.575846\n",
              "일평균 탑승인원       0.400144\n",
              "대당 일평균 운행횟수    0.450686\n",
              "장애인구           0.305051"
            ],
            "text/html": [
              "\n",
              "  <div id=\"df-c17ef764-4dc5-427c-9a83-be971c4bde2b\">\n",
              "    <div class=\"colab-df-container\">\n",
              "      <div>\n",
              "<style scoped>\n",
              "    .dataframe tbody tr th:only-of-type {\n",
              "        vertical-align: middle;\n",
              "    }\n",
              "\n",
              "    .dataframe tbody tr th {\n",
              "        vertical-align: top;\n",
              "    }\n",
              "\n",
              "    .dataframe thead th {\n",
              "        text-align: right;\n",
              "    }\n",
              "</style>\n",
              "<table border=\"1\" class=\"dataframe\">\n",
              "  <thead>\n",
              "    <tr style=\"text-align: right;\">\n",
              "      <th></th>\n",
              "      <th>평균 대기시간(분)</th>\n",
              "    </tr>\n",
              "  </thead>\n",
              "  <tbody>\n",
              "    <tr>\n",
              "      <th>일평균 접수인원</th>\n",
              "      <td>0.575846</td>\n",
              "    </tr>\n",
              "    <tr>\n",
              "      <th>일평균 탑승인원</th>\n",
              "      <td>0.400144</td>\n",
              "    </tr>\n",
              "    <tr>\n",
              "      <th>대당 일평균 운행횟수</th>\n",
              "      <td>0.450686</td>\n",
              "    </tr>\n",
              "    <tr>\n",
              "      <th>장애인구</th>\n",
              "      <td>0.305051</td>\n",
              "    </tr>\n",
              "  </tbody>\n",
              "</table>\n",
              "</div>\n",
              "      <button class=\"colab-df-convert\" onclick=\"convertToInteractive('df-c17ef764-4dc5-427c-9a83-be971c4bde2b')\"\n",
              "              title=\"Convert this dataframe to an interactive table.\"\n",
              "              style=\"display:none;\">\n",
              "        \n",
              "  <svg xmlns=\"http://www.w3.org/2000/svg\" height=\"24px\"viewBox=\"0 0 24 24\"\n",
              "       width=\"24px\">\n",
              "    <path d=\"M0 0h24v24H0V0z\" fill=\"none\"/>\n",
              "    <path d=\"M18.56 5.44l.94 2.06.94-2.06 2.06-.94-2.06-.94-.94-2.06-.94 2.06-2.06.94zm-11 1L8.5 8.5l.94-2.06 2.06-.94-2.06-.94L8.5 2.5l-.94 2.06-2.06.94zm10 10l.94 2.06.94-2.06 2.06-.94-2.06-.94-.94-2.06-.94 2.06-2.06.94z\"/><path d=\"M17.41 7.96l-1.37-1.37c-.4-.4-.92-.59-1.43-.59-.52 0-1.04.2-1.43.59L10.3 9.45l-7.72 7.72c-.78.78-.78 2.05 0 2.83L4 21.41c.39.39.9.59 1.41.59.51 0 1.02-.2 1.41-.59l7.78-7.78 2.81-2.81c.8-.78.8-2.07 0-2.86zM5.41 20L4 18.59l7.72-7.72 1.47 1.35L5.41 20z\"/>\n",
              "  </svg>\n",
              "      </button>\n",
              "      \n",
              "  <style>\n",
              "    .colab-df-container {\n",
              "      display:flex;\n",
              "      flex-wrap:wrap;\n",
              "      gap: 12px;\n",
              "    }\n",
              "\n",
              "    .colab-df-convert {\n",
              "      background-color: #E8F0FE;\n",
              "      border: none;\n",
              "      border-radius: 50%;\n",
              "      cursor: pointer;\n",
              "      display: none;\n",
              "      fill: #1967D2;\n",
              "      height: 32px;\n",
              "      padding: 0 0 0 0;\n",
              "      width: 32px;\n",
              "    }\n",
              "\n",
              "    .colab-df-convert:hover {\n",
              "      background-color: #E2EBFA;\n",
              "      box-shadow: 0px 1px 2px rgba(60, 64, 67, 0.3), 0px 1px 3px 1px rgba(60, 64, 67, 0.15);\n",
              "      fill: #174EA6;\n",
              "    }\n",
              "\n",
              "    [theme=dark] .colab-df-convert {\n",
              "      background-color: #3B4455;\n",
              "      fill: #D2E3FC;\n",
              "    }\n",
              "\n",
              "    [theme=dark] .colab-df-convert:hover {\n",
              "      background-color: #434B5C;\n",
              "      box-shadow: 0px 1px 3px 1px rgba(0, 0, 0, 0.15);\n",
              "      filter: drop-shadow(0px 1px 2px rgba(0, 0, 0, 0.3));\n",
              "      fill: #FFFFFF;\n",
              "    }\n",
              "  </style>\n",
              "\n",
              "      <script>\n",
              "        const buttonEl =\n",
              "          document.querySelector('#df-c17ef764-4dc5-427c-9a83-be971c4bde2b button.colab-df-convert');\n",
              "        buttonEl.style.display =\n",
              "          google.colab.kernel.accessAllowed ? 'block' : 'none';\n",
              "\n",
              "        async function convertToInteractive(key) {\n",
              "          const element = document.querySelector('#df-c17ef764-4dc5-427c-9a83-be971c4bde2b');\n",
              "          const dataTable =\n",
              "            await google.colab.kernel.invokeFunction('convertToInteractive',\n",
              "                                                     [key], {});\n",
              "          if (!dataTable) return;\n",
              "\n",
              "          const docLinkHtml = 'Like what you see? Visit the ' +\n",
              "            '<a target=\"_blank\" href=https://colab.research.google.com/notebooks/data_table.ipynb>data table notebook</a>'\n",
              "            + ' to learn more about interactive tables.';\n",
              "          element.innerHTML = '';\n",
              "          dataTable['output_type'] = 'display_data';\n",
              "          await google.colab.output.renderOutput(dataTable, element);\n",
              "          const docLink = document.createElement('div');\n",
              "          docLink.innerHTML = docLinkHtml;\n",
              "          element.appendChild(docLink);\n",
              "        }\n",
              "      </script>\n",
              "    </div>\n",
              "  </div>\n",
              "  "
            ]
          },
          "metadata": {},
          "execution_count": 95
        }
      ]
    },
    {
      "cell_type": "code",
      "source": [
        "df2 = df.iloc[-4:,:]\n",
        "df2"
      ],
      "metadata": {
        "colab": {
          "base_uri": "https://localhost:8080/",
          "height": 175
        },
        "id": "38xNrFyrkhUI",
        "outputId": "6908ec25-34bc-41d9-c9a9-77c1adcfba10"
      },
      "execution_count": 5,
      "outputs": [
        {
          "output_type": "execute_result",
          "data": {
            "text/plain": [
              "      년도   차량보유  일평균 접수인원  일평균 탑승인원   탑승률  대당 일평균 운행횟수      장애인구  평균 대기시간(분)  \\\n",
              "9   2019  437.0    4104.0    3230.0  78.7          9.4  394843.0        55.0   \n",
              "10  2020  622.0    3137.0    2656.0  84.7          6.4  394190.0        30.0   \n",
              "11  2021  622.0    3692.0    3344.0  90.6          6.5  392123.0        32.0   \n",
              "12  2022  634.0    3673.0    3209.0  87.4          7.7  392920.0        29.5   \n",
              "\n",
              "    30분 이내 탑승률  \n",
              "9         28.9  \n",
              "10        65.1  \n",
              "11        60.7  \n",
              "12        64.4  "
            ],
            "text/html": [
              "\n",
              "  <div id=\"df-bdf59e39-93f1-4408-9679-26df74c1ed74\">\n",
              "    <div class=\"colab-df-container\">\n",
              "      <div>\n",
              "<style scoped>\n",
              "    .dataframe tbody tr th:only-of-type {\n",
              "        vertical-align: middle;\n",
              "    }\n",
              "\n",
              "    .dataframe tbody tr th {\n",
              "        vertical-align: top;\n",
              "    }\n",
              "\n",
              "    .dataframe thead th {\n",
              "        text-align: right;\n",
              "    }\n",
              "</style>\n",
              "<table border=\"1\" class=\"dataframe\">\n",
              "  <thead>\n",
              "    <tr style=\"text-align: right;\">\n",
              "      <th></th>\n",
              "      <th>년도</th>\n",
              "      <th>차량보유</th>\n",
              "      <th>일평균 접수인원</th>\n",
              "      <th>일평균 탑승인원</th>\n",
              "      <th>탑승률</th>\n",
              "      <th>대당 일평균 운행횟수</th>\n",
              "      <th>장애인구</th>\n",
              "      <th>평균 대기시간(분)</th>\n",
              "      <th>30분 이내 탑승률</th>\n",
              "    </tr>\n",
              "  </thead>\n",
              "  <tbody>\n",
              "    <tr>\n",
              "      <th>9</th>\n",
              "      <td>2019</td>\n",
              "      <td>437.0</td>\n",
              "      <td>4104.0</td>\n",
              "      <td>3230.0</td>\n",
              "      <td>78.7</td>\n",
              "      <td>9.4</td>\n",
              "      <td>394843.0</td>\n",
              "      <td>55.0</td>\n",
              "      <td>28.9</td>\n",
              "    </tr>\n",
              "    <tr>\n",
              "      <th>10</th>\n",
              "      <td>2020</td>\n",
              "      <td>622.0</td>\n",
              "      <td>3137.0</td>\n",
              "      <td>2656.0</td>\n",
              "      <td>84.7</td>\n",
              "      <td>6.4</td>\n",
              "      <td>394190.0</td>\n",
              "      <td>30.0</td>\n",
              "      <td>65.1</td>\n",
              "    </tr>\n",
              "    <tr>\n",
              "      <th>11</th>\n",
              "      <td>2021</td>\n",
              "      <td>622.0</td>\n",
              "      <td>3692.0</td>\n",
              "      <td>3344.0</td>\n",
              "      <td>90.6</td>\n",
              "      <td>6.5</td>\n",
              "      <td>392123.0</td>\n",
              "      <td>32.0</td>\n",
              "      <td>60.7</td>\n",
              "    </tr>\n",
              "    <tr>\n",
              "      <th>12</th>\n",
              "      <td>2022</td>\n",
              "      <td>634.0</td>\n",
              "      <td>3673.0</td>\n",
              "      <td>3209.0</td>\n",
              "      <td>87.4</td>\n",
              "      <td>7.7</td>\n",
              "      <td>392920.0</td>\n",
              "      <td>29.5</td>\n",
              "      <td>64.4</td>\n",
              "    </tr>\n",
              "  </tbody>\n",
              "</table>\n",
              "</div>\n",
              "      <button class=\"colab-df-convert\" onclick=\"convertToInteractive('df-bdf59e39-93f1-4408-9679-26df74c1ed74')\"\n",
              "              title=\"Convert this dataframe to an interactive table.\"\n",
              "              style=\"display:none;\">\n",
              "        \n",
              "  <svg xmlns=\"http://www.w3.org/2000/svg\" height=\"24px\"viewBox=\"0 0 24 24\"\n",
              "       width=\"24px\">\n",
              "    <path d=\"M0 0h24v24H0V0z\" fill=\"none\"/>\n",
              "    <path d=\"M18.56 5.44l.94 2.06.94-2.06 2.06-.94-2.06-.94-.94-2.06-.94 2.06-2.06.94zm-11 1L8.5 8.5l.94-2.06 2.06-.94-2.06-.94L8.5 2.5l-.94 2.06-2.06.94zm10 10l.94 2.06.94-2.06 2.06-.94-2.06-.94-.94-2.06-.94 2.06-2.06.94z\"/><path d=\"M17.41 7.96l-1.37-1.37c-.4-.4-.92-.59-1.43-.59-.52 0-1.04.2-1.43.59L10.3 9.45l-7.72 7.72c-.78.78-.78 2.05 0 2.83L4 21.41c.39.39.9.59 1.41.59.51 0 1.02-.2 1.41-.59l7.78-7.78 2.81-2.81c.8-.78.8-2.07 0-2.86zM5.41 20L4 18.59l7.72-7.72 1.47 1.35L5.41 20z\"/>\n",
              "  </svg>\n",
              "      </button>\n",
              "      \n",
              "  <style>\n",
              "    .colab-df-container {\n",
              "      display:flex;\n",
              "      flex-wrap:wrap;\n",
              "      gap: 12px;\n",
              "    }\n",
              "\n",
              "    .colab-df-convert {\n",
              "      background-color: #E8F0FE;\n",
              "      border: none;\n",
              "      border-radius: 50%;\n",
              "      cursor: pointer;\n",
              "      display: none;\n",
              "      fill: #1967D2;\n",
              "      height: 32px;\n",
              "      padding: 0 0 0 0;\n",
              "      width: 32px;\n",
              "    }\n",
              "\n",
              "    .colab-df-convert:hover {\n",
              "      background-color: #E2EBFA;\n",
              "      box-shadow: 0px 1px 2px rgba(60, 64, 67, 0.3), 0px 1px 3px 1px rgba(60, 64, 67, 0.15);\n",
              "      fill: #174EA6;\n",
              "    }\n",
              "\n",
              "    [theme=dark] .colab-df-convert {\n",
              "      background-color: #3B4455;\n",
              "      fill: #D2E3FC;\n",
              "    }\n",
              "\n",
              "    [theme=dark] .colab-df-convert:hover {\n",
              "      background-color: #434B5C;\n",
              "      box-shadow: 0px 1px 3px 1px rgba(0, 0, 0, 0.15);\n",
              "      filter: drop-shadow(0px 1px 2px rgba(0, 0, 0, 0.3));\n",
              "      fill: #FFFFFF;\n",
              "    }\n",
              "  </style>\n",
              "\n",
              "      <script>\n",
              "        const buttonEl =\n",
              "          document.querySelector('#df-bdf59e39-93f1-4408-9679-26df74c1ed74 button.colab-df-convert');\n",
              "        buttonEl.style.display =\n",
              "          google.colab.kernel.accessAllowed ? 'block' : 'none';\n",
              "\n",
              "        async function convertToInteractive(key) {\n",
              "          const element = document.querySelector('#df-bdf59e39-93f1-4408-9679-26df74c1ed74');\n",
              "          const dataTable =\n",
              "            await google.colab.kernel.invokeFunction('convertToInteractive',\n",
              "                                                     [key], {});\n",
              "          if (!dataTable) return;\n",
              "\n",
              "          const docLinkHtml = 'Like what you see? Visit the ' +\n",
              "            '<a target=\"_blank\" href=https://colab.research.google.com/notebooks/data_table.ipynb>data table notebook</a>'\n",
              "            + ' to learn more about interactive tables.';\n",
              "          element.innerHTML = '';\n",
              "          dataTable['output_type'] = 'display_data';\n",
              "          await google.colab.output.renderOutput(dataTable, element);\n",
              "          const docLink = document.createElement('div');\n",
              "          docLink.innerHTML = docLinkHtml;\n",
              "          element.appendChild(docLink);\n",
              "        }\n",
              "      </script>\n",
              "    </div>\n",
              "  </div>\n",
              "  "
            ]
          },
          "metadata": {},
          "execution_count": 5
        }
      ]
    },
    {
      "cell_type": "code",
      "source": [
        "df_cor2 = df2[['차량보유', '일평균_접수인원', '일평균_탑승인원', '대당_일평균_운행횟수', '장애인구',\n",
        "       '평균_대기시간(분)']].corr().drop(['평균_대기시간(분)'])[['평균_대기시간(분)']].abs()\n",
        "df_cor2[df_cor2['평균_대기시간(분)'] > 0.3]"
      ],
      "metadata": {
        "colab": {
          "base_uri": "https://localhost:8080/",
          "height": 206
        },
        "id": "H5oZzUtgktX3",
        "outputId": "a1815df9-b605-4b7a-b7d1-787aceca84b4"
      },
      "execution_count": 6,
      "outputs": [
        {
          "output_type": "execute_result",
          "data": {
            "text/plain": [
              "             평균 대기시간(분)\n",
              "차량보유           0.997791\n",
              "일평균 접수인원       0.778209\n",
              "일평균 탑승인원       0.301176\n",
              "대당 일평균 운행횟수    0.880499\n",
              "장애인구           0.676583"
            ],
            "text/html": [
              "\n",
              "  <div id=\"df-daf21ff2-94e9-48ee-a16d-adf05d5f2219\">\n",
              "    <div class=\"colab-df-container\">\n",
              "      <div>\n",
              "<style scoped>\n",
              "    .dataframe tbody tr th:only-of-type {\n",
              "        vertical-align: middle;\n",
              "    }\n",
              "\n",
              "    .dataframe tbody tr th {\n",
              "        vertical-align: top;\n",
              "    }\n",
              "\n",
              "    .dataframe thead th {\n",
              "        text-align: right;\n",
              "    }\n",
              "</style>\n",
              "<table border=\"1\" class=\"dataframe\">\n",
              "  <thead>\n",
              "    <tr style=\"text-align: right;\">\n",
              "      <th></th>\n",
              "      <th>평균 대기시간(분)</th>\n",
              "    </tr>\n",
              "  </thead>\n",
              "  <tbody>\n",
              "    <tr>\n",
              "      <th>차량보유</th>\n",
              "      <td>0.997791</td>\n",
              "    </tr>\n",
              "    <tr>\n",
              "      <th>일평균 접수인원</th>\n",
              "      <td>0.778209</td>\n",
              "    </tr>\n",
              "    <tr>\n",
              "      <th>일평균 탑승인원</th>\n",
              "      <td>0.301176</td>\n",
              "    </tr>\n",
              "    <tr>\n",
              "      <th>대당 일평균 운행횟수</th>\n",
              "      <td>0.880499</td>\n",
              "    </tr>\n",
              "    <tr>\n",
              "      <th>장애인구</th>\n",
              "      <td>0.676583</td>\n",
              "    </tr>\n",
              "  </tbody>\n",
              "</table>\n",
              "</div>\n",
              "      <button class=\"colab-df-convert\" onclick=\"convertToInteractive('df-daf21ff2-94e9-48ee-a16d-adf05d5f2219')\"\n",
              "              title=\"Convert this dataframe to an interactive table.\"\n",
              "              style=\"display:none;\">\n",
              "        \n",
              "  <svg xmlns=\"http://www.w3.org/2000/svg\" height=\"24px\"viewBox=\"0 0 24 24\"\n",
              "       width=\"24px\">\n",
              "    <path d=\"M0 0h24v24H0V0z\" fill=\"none\"/>\n",
              "    <path d=\"M18.56 5.44l.94 2.06.94-2.06 2.06-.94-2.06-.94-.94-2.06-.94 2.06-2.06.94zm-11 1L8.5 8.5l.94-2.06 2.06-.94-2.06-.94L8.5 2.5l-.94 2.06-2.06.94zm10 10l.94 2.06.94-2.06 2.06-.94-2.06-.94-.94-2.06-.94 2.06-2.06.94z\"/><path d=\"M17.41 7.96l-1.37-1.37c-.4-.4-.92-.59-1.43-.59-.52 0-1.04.2-1.43.59L10.3 9.45l-7.72 7.72c-.78.78-.78 2.05 0 2.83L4 21.41c.39.39.9.59 1.41.59.51 0 1.02-.2 1.41-.59l7.78-7.78 2.81-2.81c.8-.78.8-2.07 0-2.86zM5.41 20L4 18.59l7.72-7.72 1.47 1.35L5.41 20z\"/>\n",
              "  </svg>\n",
              "      </button>\n",
              "      \n",
              "  <style>\n",
              "    .colab-df-container {\n",
              "      display:flex;\n",
              "      flex-wrap:wrap;\n",
              "      gap: 12px;\n",
              "    }\n",
              "\n",
              "    .colab-df-convert {\n",
              "      background-color: #E8F0FE;\n",
              "      border: none;\n",
              "      border-radius: 50%;\n",
              "      cursor: pointer;\n",
              "      display: none;\n",
              "      fill: #1967D2;\n",
              "      height: 32px;\n",
              "      padding: 0 0 0 0;\n",
              "      width: 32px;\n",
              "    }\n",
              "\n",
              "    .colab-df-convert:hover {\n",
              "      background-color: #E2EBFA;\n",
              "      box-shadow: 0px 1px 2px rgba(60, 64, 67, 0.3), 0px 1px 3px 1px rgba(60, 64, 67, 0.15);\n",
              "      fill: #174EA6;\n",
              "    }\n",
              "\n",
              "    [theme=dark] .colab-df-convert {\n",
              "      background-color: #3B4455;\n",
              "      fill: #D2E3FC;\n",
              "    }\n",
              "\n",
              "    [theme=dark] .colab-df-convert:hover {\n",
              "      background-color: #434B5C;\n",
              "      box-shadow: 0px 1px 3px 1px rgba(0, 0, 0, 0.15);\n",
              "      filter: drop-shadow(0px 1px 2px rgba(0, 0, 0, 0.3));\n",
              "      fill: #FFFFFF;\n",
              "    }\n",
              "  </style>\n",
              "\n",
              "      <script>\n",
              "        const buttonEl =\n",
              "          document.querySelector('#df-daf21ff2-94e9-48ee-a16d-adf05d5f2219 button.colab-df-convert');\n",
              "        buttonEl.style.display =\n",
              "          google.colab.kernel.accessAllowed ? 'block' : 'none';\n",
              "\n",
              "        async function convertToInteractive(key) {\n",
              "          const element = document.querySelector('#df-daf21ff2-94e9-48ee-a16d-adf05d5f2219');\n",
              "          const dataTable =\n",
              "            await google.colab.kernel.invokeFunction('convertToInteractive',\n",
              "                                                     [key], {});\n",
              "          if (!dataTable) return;\n",
              "\n",
              "          const docLinkHtml = 'Like what you see? Visit the ' +\n",
              "            '<a target=\"_blank\" href=https://colab.research.google.com/notebooks/data_table.ipynb>data table notebook</a>'\n",
              "            + ' to learn more about interactive tables.';\n",
              "          element.innerHTML = '';\n",
              "          dataTable['output_type'] = 'display_data';\n",
              "          await google.colab.output.renderOutput(dataTable, element);\n",
              "          const docLink = document.createElement('div');\n",
              "          docLink.innerHTML = docLinkHtml;\n",
              "          element.appendChild(docLink);\n",
              "        }\n",
              "      </script>\n",
              "    </div>\n",
              "  </div>\n",
              "  "
            ]
          },
          "metadata": {},
          "execution_count": 6
        }
      ]
    },
    {
      "cell_type": "markdown",
      "source": [
        "# 다중선형회귀"
      ],
      "metadata": {
        "id": "XzyYRwOI8TJi"
      }
    },
    {
      "cell_type": "code",
      "source": [
        "# 배열로 만들기\n",
        "X = np.array(df[['차량보유', '일평균_접수인원', '일평균_탑승인원', '대당_일평균_운행횟수', '장애인구']])\n",
        "y = np.array(df['평균_대기시간(분)'])"
      ],
      "metadata": {
        "id": "Fqy4OAN1Qxqt"
      },
      "execution_count": 27,
      "outputs": []
    },
    {
      "cell_type": "code",
      "source": [
        "from sklearn.linear_model import LinearRegression\n",
        "from sklearn.model_selection import train_test_split\n",
        "from sklearn.metrics import r2_score, mean_squared_error\n",
        "\n",
        "X_train, X_test, y_train, y_test = train_test_split(\n",
        "    X, y,test_size= 0.1, random_state=2022\n",
        ")"
      ],
      "metadata": {
        "id": "1tYx35HCq-8W"
      },
      "execution_count": 39,
      "outputs": []
    },
    {
      "cell_type": "code",
      "source": [
        "lr = LinearRegression()\n",
        "lr.fit(X_train, y_train)"
      ],
      "metadata": {
        "colab": {
          "base_uri": "https://localhost:8080/"
        },
        "id": "Z4VO3Tt6q-6A",
        "outputId": "3a41e6a9-e86d-4444-c599-e004b9b71b27"
      },
      "execution_count": 29,
      "outputs": [
        {
          "output_type": "execute_result",
          "data": {
            "text/plain": [
              "LinearRegression()"
            ]
          },
          "metadata": {},
          "execution_count": 29
        }
      ]
    },
    {
      "cell_type": "code",
      "source": [
        "lr.score(X_train, y_train)  # 정확도 "
      ],
      "metadata": {
        "colab": {
          "base_uri": "https://localhost:8080/"
        },
        "id": "Q-ZRjeQAq-3i",
        "outputId": "4adf8e50-1022-4b7e-a976-d17c6c3b12d1"
      },
      "execution_count": 30,
      "outputs": [
        {
          "output_type": "execute_result",
          "data": {
            "text/plain": [
              "0.9684738101558653"
            ]
          },
          "metadata": {},
          "execution_count": 30
        }
      ]
    },
    {
      "cell_type": "code",
      "source": [
        "lr.coef_    # 회귀계수"
      ],
      "metadata": {
        "colab": {
          "base_uri": "https://localhost:8080/"
        },
        "id": "FialU9cKPkYZ",
        "outputId": "bf1b61d0-03ab-4f16-a8dc-6292c963fe79"
      },
      "execution_count": 31,
      "outputs": [
        {
          "output_type": "execute_result",
          "data": {
            "text/plain": [
              "array([-6.55100441e-02,  5.66029158e-02, -4.12124229e-02, -5.89287352e+00,\n",
              "        9.78869462e-04])"
            ]
          },
          "metadata": {},
          "execution_count": 31
        }
      ]
    },
    {
      "cell_type": "code",
      "source": [
        "lr.intercept_    # 오차항"
      ],
      "metadata": {
        "colab": {
          "base_uri": "https://localhost:8080/"
        },
        "id": "jXItPjLlPkal",
        "outputId": "a39711ad-be7c-414b-f1cf-7d4e741b43f7"
      },
      "execution_count": 32,
      "outputs": [
        {
          "output_type": "execute_result",
          "data": {
            "text/plain": [
              "-344.4148847587712"
            ]
          },
          "metadata": {},
          "execution_count": 32
        }
      ]
    },
    {
      "cell_type": "code",
      "source": [
        "X_test"
      ],
      "metadata": {
        "colab": {
          "base_uri": "https://localhost:8080/"
        },
        "id": "3ZSCeFgbPzkD",
        "outputId": "7d71fcdc-5955-49d9-8d59-e3b1d7010f50"
      },
      "execution_count": 33,
      "outputs": [
        {
          "output_type": "execute_result",
          "data": {
            "text/plain": [
              "array([[4.10000e+02, 2.85500e+03, 2.56700e+03, 8.70000e+00, 4.03435e+05],\n",
              "       [4.24000e+02, 3.75100e+03, 3.27600e+03, 9.50000e+00, 3.93380e+05]])"
            ]
          },
          "metadata": {},
          "execution_count": 33
        }
      ]
    },
    {
      "cell_type": "code",
      "source": [
        "y_test"
      ],
      "metadata": {
        "colab": {
          "base_uri": "https://localhost:8080/"
        },
        "id": "RYeOizaUP5y9",
        "outputId": "3350e386-8992-4ac3-ecab-3ae4731a7695"
      },
      "execution_count": 34,
      "outputs": [
        {
          "output_type": "execute_result",
          "data": {
            "text/plain": [
              "array([26., 34.])"
            ]
          },
          "metadata": {},
          "execution_count": 34
        }
      ]
    },
    {
      "cell_type": "code",
      "source": [
        "lr.predict(X_test[0].reshape(1, -1)), lr.predict(X_test[1].reshape(1, -1))"
      ],
      "metadata": {
        "colab": {
          "base_uri": "https://localhost:8080/"
        },
        "id": "IyIone04P7Z7",
        "outputId": "5b39aa77-014d-4aa1-9710-448ccdc3aa51"
      },
      "execution_count": 37,
      "outputs": [
        {
          "output_type": "execute_result",
          "data": {
            "text/plain": [
              "(array([28.17723386]), array([34.19986671]))"
            ]
          },
          "metadata": {},
          "execution_count": 37
        }
      ]
    },
    {
      "cell_type": "code",
      "source": [
        "r2_lr = r2_score(y_test,lr.predict(X_test))  # 결정계수\n",
        "r2_lr"
      ],
      "metadata": {
        "colab": {
          "base_uri": "https://localhost:8080/"
        },
        "id": "wgycQ5jhRWMx",
        "outputId": "0d628dd7-4a99-414f-9ad4-7688b67e4381"
      },
      "execution_count": 44,
      "outputs": [
        {
          "output_type": "execute_result",
          "data": {
            "text/plain": [
              "0.8506158130843013"
            ]
          },
          "metadata": {},
          "execution_count": 44
        }
      ]
    },
    {
      "cell_type": "code",
      "source": [
        "mse_lr = mean_squared_error(y_test,lr.predict(X_test)) # mse : 오차제곱평균 = 작을수록 좋음\n",
        "mse_lr"
      ],
      "metadata": {
        "colab": {
          "base_uri": "https://localhost:8080/"
        },
        "id": "Vdi6Fa3bSMvC",
        "outputId": "7c13d60d-e61e-4a5a-f1a3-6f485a19ecd9"
      },
      "execution_count": 43,
      "outputs": [
        {
          "output_type": "execute_result",
          "data": {
            "text/plain": [
              "2.3901469906511776"
            ]
          },
          "metadata": {},
          "execution_count": 43
        }
      ]
    },
    {
      "cell_type": "code",
      "source": [
        "X_test"
      ],
      "metadata": {
        "colab": {
          "base_uri": "https://localhost:8080/"
        },
        "id": "OX6rvJPQaDk7",
        "outputId": "e0c958ed-2218-4351-9395-342ec9127a36"
      },
      "execution_count": 65,
      "outputs": [
        {
          "output_type": "execute_result",
          "data": {
            "text/plain": [
              "array([[4.10000e+02, 2.85500e+03, 2.56700e+03, 8.70000e+00, 4.03435e+05],\n",
              "       [4.24000e+02, 3.75100e+03, 3.27600e+03, 9.50000e+00, 3.93380e+05]])"
            ]
          },
          "metadata": {},
          "execution_count": 65
        }
      ]
    },
    {
      "cell_type": "code",
      "source": [
        "df.columns"
      ],
      "metadata": {
        "colab": {
          "base_uri": "https://localhost:8080/"
        },
        "id": "VVX2yGCGaaD3",
        "outputId": "90a82fd1-ddd7-4e1b-d8f9-b3d86a81588c"
      },
      "execution_count": 68,
      "outputs": [
        {
          "output_type": "execute_result",
          "data": {
            "text/plain": [
              "Index(['년도', '차량보유', '일평균_접수인원', '일평균_탑승인원', '탑승률', '대당_일평균_운행횟수', '장애인구',\n",
              "       '평균_대기시간', '30분_이내_탑승률'],\n",
              "      dtype='object')"
            ]
          },
          "metadata": {},
          "execution_count": 68
        }
      ]
    },
    {
      "cell_type": "code",
      "source": [
        "from statsmodels.formula.api import ols\n",
        "import statsmodels.api as sm\n",
        "\n",
        "# residual\n",
        "res = ols('평균_대기시간 ~ 차량보유 + 일평균_접수인원 + 일평균_탑승인원 + 대당_일평균_운행횟수 + 장애인구', data = (df)).fit()\n",
        "print(res.summary())\n",
        "\n",
        "#  P value = P>|t|      : 장애인구만이 pvalue가 0.05보다 높아서 유의미하지 않게 나옴.\n",
        "#  R-squared            : 결정계수. 데이터가 모형을 얼마나 설명해주는지 알려줌. 그러나 다중회귀분석에서는 수정된 결정계수를 봄.\n",
        "#  Adj. R-squared       : 수정된 결정계수. 위의 회귀식이 모형을 94.6% 설명할 수 있다."
      ],
      "metadata": {
        "colab": {
          "base_uri": "https://localhost:8080/"
        },
        "id": "UoOwgovcSZVF",
        "outputId": "69b8519a-1c9f-498e-9caa-22a0ffb1fed0"
      },
      "execution_count": 90,
      "outputs": [
        {
          "output_type": "stream",
          "name": "stdout",
          "text": [
            "                            OLS Regression Results                            \n",
            "==============================================================================\n",
            "Dep. Variable:                평균_대기시간   R-squared:                       0.969\n",
            "Model:                            OLS   Adj. R-squared:                  0.946\n",
            "Method:                 Least Squares   F-statistic:                     43.24\n",
            "Date:                Thu, 12 May 2022   Prob (F-statistic):           4.08e-05\n",
            "Time:                        13:36:15   Log-Likelihood:                -25.557\n",
            "No. Observations:                  13   AIC:                             63.11\n",
            "Df Residuals:                       7   BIC:                             66.50\n",
            "Df Model:                           5                                         \n",
            "Covariance Type:            nonrobust                                         \n",
            "===============================================================================\n",
            "                  coef    std err          t      P>|t|      [0.025      0.975]\n",
            "-------------------------------------------------------------------------------\n",
            "Intercept    -339.3689    209.434     -1.620      0.149    -834.602     155.864\n",
            "차량보유           -0.0677      0.029     -2.372      0.049      -0.135      -0.000\n",
            "일평균_접수인원        0.0577      0.005     11.502      0.000       0.046       0.070\n",
            "일평균_탑승인원       -0.0422      0.007     -6.163      0.000      -0.058      -0.026\n",
            "대당_일평균_운행횟수    -6.1438      2.029     -3.029      0.019     -10.941      -1.347\n",
            "장애인구            0.0010      0.000      2.111      0.073      -0.000       0.002\n",
            "==============================================================================\n",
            "Omnibus:                        1.033   Durbin-Watson:                   3.010\n",
            "Prob(Omnibus):                  0.597   Jarque-Bera (JB):                0.727\n",
            "Skew:                           0.180   Prob(JB):                        0.695\n",
            "Kurtosis:                       1.899   Cond. No.                     1.28e+08\n",
            "==============================================================================\n",
            "\n",
            "Warnings:\n",
            "[1] Standard Errors assume that the covariance matrix of the errors is correctly specified.\n",
            "[2] The condition number is large, 1.28e+08. This might indicate that there are\n",
            "strong multicollinearity or other numerical problems.\n"
          ]
        }
      ]
    },
    {
      "cell_type": "markdown",
      "source": [
        "## 잔차해석\n",
        "- 모형의 선형성  \n",
        "- 잔차의 정규성 : Q-Q Plot\n",
        "- 잔차의 등분산성\n",
        "- 잔차의 독립성\n"
      ],
      "metadata": {
        "id": "I1Leg-D0ADCs"
      }
    },
    {
      "cell_type": "markdown",
      "source": [
        "### 4.잔차의 독립성\n",
        "- 위의 summary에서 확인 가능\n",
        "- 세 번째 단락의 Durbin-Watson 검정으로 확인\n",
        "- 1.5 ~ 2.5 사이에 위치시 독립으로 판단."
      ],
      "metadata": {
        "id": "fFU2WGhRiLCm"
      }
    },
    {
      "cell_type": "markdown",
      "source": [
        "### 1.모형의 선형성\n",
        "- 예측값과 잔차를 비교\n",
        "- 점선에 맞추어 잔차의 추세인 빨간 선이 비슷하게 있어야됨\n",
        "- 점선에서 크게 벗어날수록 선형성에 위배됨.\n",
        "- 예측값에 따라 잔차가 크게 다르다는 의미 "
      ],
      "metadata": {
        "id": "HQkW8iUwfIJJ"
      }
    },
    {
      "cell_type": "code",
      "source": [
        "fitted = res.predict(df)\n",
        "residual = df['평균_대기시간'] - fitted\n",
        "\n",
        "sns.regplot(fitted, residual, lowess = True, line_kws= {'color' : 'red'})\n",
        "plt.plot([fitted.min(), fitted.max()], [0,0], ':', color = 'grey')\n",
        "plt.title('모형의 선형성', fontsize = 15)\n",
        "plt.show()"
      ],
      "metadata": {
        "colab": {
          "base_uri": "https://localhost:8080/",
          "height": 283
        },
        "id": "TrfIqWdMVOCZ",
        "outputId": "9a5d645d-ff20-4a10-c3b9-cafbb95ac418"
      },
      "execution_count": 95,
      "outputs": [
        {
          "output_type": "display_data",
          "data": {
            "text/plain": [
              "<Figure size 432x288 with 1 Axes>"
            ],
            "image/png": "[encoded data removed]"
          },
          "metadata": {
            "needs_background": "light"
          }
        }
      ]
    },
    {
      "cell_type": "markdown",
      "source": [
        "### 2.잔차의 정규성\n",
        "- 잔차가 정규분포를 따른다는 가정\n",
        "- Q-Q Plot을 통해 확인이 가능하다.\n",
        "- 정규분포를 따른다면 점들이 점선을 따라 배치됨."
      ],
      "metadata": {
        "id": "6OpNDbcUfh1o"
      }
    },
    {
      "cell_type": "code",
      "source": [
        "import scipy.stats\n",
        "sr = scipy.stats.zscore(residual)\n",
        "(x, y), _ = scipy.stats.probplot(sr)\n",
        "sns.scatterplot(x, y)\n",
        "plt.plot([-3, 3], [-3, 3], '--', color = 'grey')\n",
        "plt.title('모형의 등분산성(Q-Q Plot)', fontsize = 15)\n",
        "plt.show()"
      ],
      "metadata": {
        "colab": {
          "base_uri": "https://localhost:8080/",
          "height": 283
        },
        "id": "YuBELn5KfAgS",
        "outputId": "722897dc-9268-4e3f-e03a-11de3ece557a"
      },
      "execution_count": 96,
      "outputs": [
        {
          "output_type": "display_data",
          "data": {
            "text/plain": [
              "<Figure size 432x288 with 1 Axes>"
            ],
            "image/png": "[encoded data removed]"
          },
          "metadata": {
            "needs_background": "light"
          }
        }
      ]
    },
    {
      "cell_type": "code",
      "source": [
        "scipy.stats.shapiro(residual)\n",
        "# (statistic, pvalue)\n",
        "# pvalue가 0.05보다 크므로 잔차의 정규성을 위반하지 않았음을 확인할 수 있다."
      ],
      "metadata": {
        "colab": {
          "base_uri": "https://localhost:8080/"
        },
        "id": "-Dl8f1SVgE2V",
        "outputId": "5e9f94a3-b689-41c9-9084-476b2cc9eb97"
      },
      "execution_count": 97,
      "outputs": [
        {
          "output_type": "execute_result",
          "data": {
            "text/plain": [
              "(0.9490301609039307, 0.5836686491966248)"
            ]
          },
          "metadata": {},
          "execution_count": 97
        }
      ]
    },
    {
      "cell_type": "markdown",
      "source": [
        "### 3.잔차의 등분산성\n",
        "- 회귀모형을 통해 예측된 값이 어떻든지 모든 값들에 대하여 잔차의 분산이 동일하다는 가정\n",
        "- 예측값(X축)에 따라 잔차가 어떻게 달라지는지 보여줌\n",
        "- 빨간 실선이 수평선에 가까울수록 등분산성이 있다는 의미"
      ],
      "metadata": {
        "id": "1oXUeYzdhchH"
      }
    },
    {
      "cell_type": "code",
      "source": [
        "sns.regplot(fitted, np.sqrt(np.abs(sr)), lowess = True, line_kws = {'color' : 'red'})\n",
        "plt.show()\n",
        "# .....ㅋ"
      ],
      "metadata": {
        "colab": {
          "base_uri": "https://localhost:8080/",
          "height": 268
        },
        "id": "JBHuVbgIgiNg",
        "outputId": "1deda2f6-30fb-4673-a481-c54f37dbaa05"
      },
      "execution_count": 98,
      "outputs": [
        {
          "output_type": "display_data",
          "data": {
            "text/plain": [
              "<Figure size 432x288 with 1 Axes>"
            ],
            "image/png": "[encoded data removed]"
          },
          "metadata": {
            "needs_background": "light"
          }
        }
      ]
    },
    {
      "cell_type": "code",
      "source": [
        "# 참고 : https://ysyblog.tistory.com/120"
      ],
      "metadata": {
        "id": "TsTCTBTsiaex"
      },
      "execution_count": null,
      "outputs": []
    }
  ]
}